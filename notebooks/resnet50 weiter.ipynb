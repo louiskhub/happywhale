{
 "cells": [
  {
   "cell_type": "code",
   "execution_count": 2,
   "id": "c09ce979",
   "metadata": {},
   "outputs": [
    {
     "name": "stdout",
     "output_type": "stream",
     "text": [
      "We threw away the datapoint with index 35075 \n"
     ]
    }
   ],
   "source": [
    "import tensorflow as tf\n",
    "import tensorflow_addons as tfa\n",
    "import tensorflow_datasets as tfds\n",
    "import matplotlib.pyplot as plt\n",
    "import sys\n",
    "sys.path.append(\"..\")\n",
    "sys.path.append(\"../src\")\n",
    "import os\n",
    "from src.DS_Generator import DataSet_Generator\n",
    "from src.model_evaluation import mean_average_precision\n",
    "from data_augmentation import *\n",
    "import numpy as np\n",
    "import pandas as pd\n",
    "import tensorflow_datasets as tfds\n",
    "from util import *\n",
    "import datetime\n",
    "%load_ext tensorboard\n",
    "\n",
    "time_stamp = datetime.datetime.now().strftime(\"%Y%m%d-%H%M%S\")\n",
    "print(time_stamp)\n",
    "\n",
    "seed_for_data = int(time_stamp[-2:])\n",
    "\n",
    "train_ds, val_ds = DataSet_Generator().generate_species_data(TRAIN_SPECIES_DF,seed=seed_for_data,augment=1,batch_size=32)\n",
    "num_classes = len(set(TRAIN_SPECIES_DF[\"species\"]))"
   ]
  },
  {
   "cell_type": "code",
   "execution_count": 3,
   "id": "1a614868",
   "metadata": {},
   "outputs": [],
   "source": [
    "Input = tf.keras.Input((224,224,3))\n",
    "base = tf.keras.applications.resnet50.ResNet50(weights=\"imagenet\", include_top=False,input_tensor=Input)\n",
    "\n",
    "flatten = base.output\n",
    "flatten = tf.keras.layers.Flatten()(flatten)\n",
    "head = tf.keras.layers.Dense(256, activation=\"relu\")(flatten)\n",
    "head = tf.keras.layers.Dense(128, activation=\"relu\")(head)\n",
    "head = tf.keras.layers.Dense(64, activation=\"relu\")(head)\n",
    "head = tf.keras.layers.Dense(num_classes,activation=\"softmax\")(head)\n",
    "model = tf.keras.Model(inputs=Input, outputs=head,name=\"Resnet50imagenetweightssoftmax\")"
   ]
  },
  {
   "cell_type": "code",
   "execution_count": 4,
   "id": "5eece33e",
   "metadata": {},
   "outputs": [
    {
     "data": {
      "text/plain": [
       "<tensorflow.python.training.tracking.util.CheckpointLoadStatus at 0x2bc81f442e0>"
      ]
     },
     "execution_count": 4,
     "metadata": {},
     "output_type": "execute_result"
    }
   ],
   "source": [
    "model.load_weights(\"../../models/Resnet50imagenetweightssoftmax/saves/20220328-153544/cp-0009.ckpt\")"
   ]
  },
  {
   "cell_type": "code",
   "execution_count": 5,
   "id": "6bf09410",
   "metadata": {},
   "outputs": [],
   "source": [
    "model.compile(optimizer=tf.keras.optimizers.Adam(0.001),loss=\"categorical_crossentropy\",metrics=[\"acc\"])"
   ]
  },
  {
   "cell_type": "code",
   "execution_count": 6,
   "id": "2c068b80",
   "metadata": {},
   "outputs": [],
   "source": [
    "if model.name not in os.listdir(\"../../models/\"):\n",
    "    os.makedirs(\"../../models/\"+model.name)\n",
    "    os.makedirs(\"../../models/\"+model.name+\"/logs\")\n",
    "    os.makedirs(\"../../models/\"+model.name+\"/saves\")\n",
    "    \n",
    "\n",
    "\n",
    "log_dir = \"../../models/\"+model.name+\"/logs/\" +time_stamp \n",
    "\n",
    "tensorboard_callback = tf.keras.callbacks.TensorBoard(log_dir=log_dir, histogram_freq=1)\n",
    "\n",
    "checkpoint_path = \"../../models/\"+model.name+\"/saves/\" +time_stamp +\"/cp-{epoch:04d}.ckpt\"\n",
    "\n",
    "cp_callback = tf.keras.callbacks.ModelCheckpoint(\n",
    "    filepath=checkpoint_path, \n",
    "    verbose=1, \n",
    "    save_weights_only=True)"
   ]
  },
  {
   "cell_type": "code",
   "execution_count": null,
   "id": "c1cdd501",
   "metadata": {},
   "outputs": [
    {
     "name": "stdout",
     "output_type": "stream",
     "text": [
      "Epoch 1/15\n",
      "1436/1436 [==============================] - ETA: 0s - loss: 0.3946 - acc: 0.8799\n",
      "Epoch 1: saving model to ../../models/Resnet50imagenetweightssoftmax/saves/20220328-183448\\cp-0001.ckpt\n",
      "1436/1436 [==============================] - 546s 373ms/step - loss: 0.3946 - acc: 0.8799 - val_loss: 0.4528 - val_acc: 0.8628\n",
      "Epoch 2/15\n",
      "1436/1436 [==============================] - ETA: 0s - loss: 0.3232 - acc: 0.9003\n",
      "Epoch 2: saving model to ../../models/Resnet50imagenetweightssoftmax/saves/20220328-183448\\cp-0002.ckpt\n",
      "1436/1436 [==============================] - 553s 384ms/step - loss: 0.3232 - acc: 0.9003 - val_loss: 0.6294 - val_acc: 0.8303\n",
      "Epoch 3/15\n",
      "1436/1436 [==============================] - ETA: 0s - loss: 0.2951 - acc: 0.9102\n",
      "Epoch 3: saving model to ../../models/Resnet50imagenetweightssoftmax/saves/20220328-183448\\cp-0003.ckpt\n",
      "1436/1436 [==============================] - 552s 384ms/step - loss: 0.2951 - acc: 0.9102 - val_loss: 0.4984 - val_acc: 0.8577\n",
      "Epoch 4/15\n",
      "1436/1436 [==============================] - ETA: 0s - loss: 0.2485 - acc: 0.9228\n",
      "Epoch 4: saving model to ../../models/Resnet50imagenetweightssoftmax/saves/20220328-183448\\cp-0004.ckpt\n",
      "1436/1436 [==============================] - 522s 362ms/step - loss: 0.2485 - acc: 0.9228 - val_loss: 0.5298 - val_acc: 0.8630\n",
      "Epoch 5/15\n",
      " 976/1436 [===================>..........] - ETA: 2:38 - loss: 0.2278 - acc: 0.9307"
     ]
    }
   ],
   "source": [
    "model.fit(\n",
    "train_ds,\n",
    "epochs=15,\n",
    "validation_data=val_ds,\n",
    "callbacks=[cp_callback,tensorboard_callback])"
   ]
  },
  {
   "cell_type": "code",
   "execution_count": null,
   "id": "5329c02c",
   "metadata": {},
   "outputs": [],
   "source": []
  }
 ],
 "metadata": {
  "kernelspec": {
   "display_name": "gpu",
   "language": "python",
   "name": "gpu"
  },
  "language_info": {
   "codemirror_mode": {
    "name": "ipython",
    "version": 3
   },
   "file_extension": ".py",
   "mimetype": "text/x-python",
   "name": "python",
   "nbconvert_exporter": "python",
   "pygments_lexer": "ipython3",
   "version": "3.9.7"
  }
 },
 "nbformat": 4,
 "nbformat_minor": 5
}
