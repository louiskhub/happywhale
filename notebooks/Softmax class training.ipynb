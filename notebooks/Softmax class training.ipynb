{
 "cells": [
  {
   "cell_type": "code",
   "execution_count": 2,
   "id": "cfcf1ac0",
   "metadata": {},
   "outputs": [],
   "source": [
    "import tensorflow as tf\n",
    "import tensorflow_addons as tfa\n",
    "import tensorflow_datasets as tfds\n",
    "import matplotlib.pyplot as plt\n",
    "import sys\n",
    "sys.path.append(\"..\")\n",
    "sys.path.append(\"../src\")\n",
    "import os\n",
    "from src.DS_Generator import DataSet_Generator\n",
    "from src.model_evaluation import mean_average_precision\n",
    "from data_augmentation import *\n",
    "import numpy as np\n",
    "import pandas as pd\n",
    "import tensorflow_datasets as tfds\n",
    "from util import *\n",
    "import datetime\n",
    "%load_ext tensorboard"
   ]
  },
  {
   "cell_type": "code",
   "execution_count": 3,
   "id": "b5f94d6d",
   "metadata": {
    "scrolled": true
   },
   "outputs": [
    {
     "name": "stdout",
     "output_type": "stream",
     "text": [
      "Since none Batch-size was specified we, took the 64 specified in utils.py\n"
     ]
    }
   ],
   "source": [
    "train_ds, val_ds = DataSet_Generator().generate(TRAIN_SPECIES_DF,augment=1)"
   ]
  },
  {
   "cell_type": "code",
   "execution_count": 5,
   "id": "650dc326",
   "metadata": {},
   "outputs": [],
   "source": [
    "num_classes = len(set(TRAIN_SPECIES_DF[\"species\"]))"
   ]
  },
  {
   "cell_type": "code",
   "execution_count": 6,
   "id": "3f257df6",
   "metadata": {},
   "outputs": [],
   "source": [
    "Input = tf.keras.Input((224,224,3))\n",
    "base = tf.keras.applications.resnet50.ResNet50(weights=\"imagenet\", include_top=False,input_tensor=Input)\n",
    "\n",
    "flatten = base.output\n",
    "flatten = tf.keras.layers.Flatten()(flatten)\n",
    "head = tf.keras.layers.Dense(256, activation=\"relu\")(flatten)\n",
    "head = tf.keras.layers.Dense(128, activation=\"relu\")(head)\n",
    "head = tf.keras.layers.Dense(64, activation=\"relu\")(head)\n",
    "head = tf.keras.layers.Dense(num_classes,activation=\"softmax\")(head)\n",
    "model = tf.keras.Model(inputs=Input, outputs=head,name=\"Resnet50imagenetweightssoftmax\")"
   ]
  },
  {
   "cell_type": "code",
   "execution_count": 7,
   "id": "2274ac9a",
   "metadata": {},
   "outputs": [],
   "source": [
    "model.compile(optimizer=tf.keras.optimizers.Adam(0.001),loss=\"categorical_crossentropy\",metrics=[\"acc\"])"
   ]
  },
  {
   "cell_type": "code",
   "execution_count": 8,
   "id": "0d5cac7f",
   "metadata": {},
   "outputs": [],
   "source": [
    "if model.name not in os.listdir(\"../../models/\"):\n",
    "    os.makedirs(\"../../models/\"+model.name)\n",
    "    os.makedirs(\"../../models/\"+model.name+\"/logs\")\n",
    "    os.makedirs(\"../../models/\"+model.name+\"/saves\")\n",
    "    \n",
    "time_stamp = datetime.datetime.now().strftime(\"%Y%m%d-%H%M%S\")\n",
    "\n",
    "log_dir = \"../../models/\"+model.name+\"/logs/\" +time_stamp \n",
    "\n",
    "tensorboard_callback = tf.keras.callbacks.TensorBoard(log_dir=log_dir, histogram_freq=1)\n",
    "\n",
    "checkpoint_path = \"../../models/\"+model.name+\"/saves/\" +time_stamp +\"/cp-{epoch:04d}.ckpt\"\n",
    "\n",
    "cp_callback = tf.keras.callbacks.ModelCheckpoint(\n",
    "    filepath=checkpoint_path, \n",
    "    verbose=1, \n",
    "    save_weights_only=True)"
   ]
  },
  {
   "cell_type": "code",
   "execution_count": null,
   "id": "5c37b1ef",
   "metadata": {},
   "outputs": [
    {
     "name": "stdout",
     "output_type": "stream",
     "text": [
      "Epoch 1/15\n",
      "2/2 [==============================] - ETA: 0s - loss: 8.8895 - acc: 0.1797 \n",
      "Epoch 1: saving model to ../../models/Resnet50imagenetweightssoftmax/saves/20220328-145516\\cp-0001.ckpt\n",
      "2/2 [==============================] - 51s 32s/step - loss: 8.8895 - acc: 0.1797 - val_loss: 63.9698 - val_acc: 0.0012\n",
      "Epoch 2/15\n",
      "2/2 [==============================] - ETA: 0s - loss: 8.1608 - acc: 0.2266 \n",
      "Epoch 2: saving model to ../../models/Resnet50imagenetweightssoftmax/saves/20220328-145516\\cp-0002.ckpt\n",
      "2/2 [==============================] - 37s 30s/step - loss: 8.1608 - acc: 0.2266 - val_loss: 14241.1836 - val_acc: 0.0042\n",
      "Epoch 3/15\n"
     ]
    }
   ],
   "source": [
    "model.fit(\n",
    "train_ds,\n",
    "epochs=15,\n",
    "validation_data=val_ds,\n",
    "callbacks=[cp_callback,tensorboard_callback])"
   ]
  },
  {
   "cell_type": "code",
   "execution_count": null,
   "id": "1a55b7c6",
   "metadata": {},
   "outputs": [],
   "source": []
  }
 ],
 "metadata": {
  "kernelspec": {
   "display_name": "whale",
   "language": "python",
   "name": "whale"
  },
  "language_info": {
   "codemirror_mode": {
    "name": "ipython",
    "version": 3
   },
   "file_extension": ".py",
   "mimetype": "text/x-python",
   "name": "python",
   "nbconvert_exporter": "python",
   "pygments_lexer": "ipython3",
   "version": "3.9.7"
  }
 },
 "nbformat": 4,
 "nbformat_minor": 5
}
