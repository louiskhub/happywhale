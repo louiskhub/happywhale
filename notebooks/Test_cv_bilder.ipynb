{
 "cells": [
  {
   "cell_type": "code",
   "execution_count": 1,
   "id": "b8a54f27",
   "metadata": {},
   "outputs": [],
   "source": [
    "import sys\n",
    "sys.path.append(\"..\")\n",
    "sys.path.append(\"../src\")\n",
    "from data_augmentation import *\n",
    "import numpy as np\n",
    "import pandas as pd\n",
    "import tensorflow_datasets as tfds\n",
    "from util import *\n",
    "import tqdm \n",
    "import matplotlib.pyplot as plt\n",
    "from src.data_augmentation import *\n",
    "import cv2\n",
    "df = TRAIN_SPECIES_DF\n",
    "\n",
    "df = TRAIN_SPECIES_DF\n",
    "testing_path = \"../../Test/\""
   ]
  },
  {
   "cell_type": "code",
   "execution_count": 2,
   "id": "7c4ff2c0",
   "metadata": {},
   "outputs": [],
   "source": [
    "error_count = 0"
   ]
  },
  {
   "cell_type": "code",
   "execution_count": null,
   "id": "873c6391",
   "metadata": {},
   "outputs": [
    {
     "name": "stderr",
     "output_type": "stream",
     "text": [
      "  2%|▏         | 1265/51033 [05:02<1:34:23,  8.79it/s]"
     ]
    },
    {
     "name": "stdout",
     "output_type": "stream",
     "text": [
      "1\n"
     ]
    },
    {
     "name": "stderr",
     "output_type": "stream",
     "text": [
      "  3%|▎         | 1695/51033 [06:51<2:23:59,  5.71it/s]"
     ]
    },
    {
     "name": "stdout",
     "output_type": "stream",
     "text": [
      "2\n"
     ]
    },
    {
     "name": "stderr",
     "output_type": "stream",
     "text": [
      "  8%|▊         | 3854/51033 [15:31<2:09:14,  6.08it/s]"
     ]
    },
    {
     "name": "stdout",
     "output_type": "stream",
     "text": [
      "3\n"
     ]
    },
    {
     "name": "stderr",
     "output_type": "stream",
     "text": [
      "  9%|▉         | 4784/51033 [19:23<4:48:50,  2.67it/s]"
     ]
    },
    {
     "name": "stdout",
     "output_type": "stream",
     "text": [
      "4\n"
     ]
    },
    {
     "name": "stderr",
     "output_type": "stream",
     "text": [
      "  9%|▉         | 4822/51033 [19:33<2:08:44,  5.98it/s]"
     ]
    },
    {
     "name": "stdout",
     "output_type": "stream",
     "text": [
      "5\n"
     ]
    },
    {
     "name": "stderr",
     "output_type": "stream",
     "text": [
      " 10%|█         | 5225/51033 [21:16<4:05:31,  3.11it/s]"
     ]
    },
    {
     "name": "stdout",
     "output_type": "stream",
     "text": [
      "6\n"
     ]
    },
    {
     "name": "stderr",
     "output_type": "stream",
     "text": [
      " 10%|█         | 5336/51033 [21:44<2:40:52,  4.73it/s]"
     ]
    },
    {
     "name": "stdout",
     "output_type": "stream",
     "text": [
      "7\n"
     ]
    },
    {
     "name": "stderr",
     "output_type": "stream",
     "text": [
      " 11%|█         | 5360/51033 [21:54<4:07:29,  3.08it/s]"
     ]
    },
    {
     "name": "stdout",
     "output_type": "stream",
     "text": [
      "8\n"
     ]
    },
    {
     "name": "stderr",
     "output_type": "stream",
     "text": [
      " 11%|█         | 5515/51033 [22:32<2:38:01,  4.80it/s]"
     ]
    },
    {
     "name": "stdout",
     "output_type": "stream",
     "text": [
      "9\n"
     ]
    },
    {
     "name": "stderr",
     "output_type": "stream",
     "text": [
      " 12%|█▏        | 6336/51033 [25:52<3:53:52,  3.19it/s]"
     ]
    },
    {
     "name": "stdout",
     "output_type": "stream",
     "text": [
      "10\n"
     ]
    },
    {
     "name": "stderr",
     "output_type": "stream",
     "text": [
      " 13%|█▎        | 6773/51033 [27:35<4:54:35,  2.50it/s]"
     ]
    },
    {
     "name": "stdout",
     "output_type": "stream",
     "text": [
      "11\n"
     ]
    },
    {
     "name": "stderr",
     "output_type": "stream",
     "text": [
      " 13%|█▎        | 6786/51033 [27:36<1:29:48,  8.21it/s]"
     ]
    },
    {
     "name": "stdout",
     "output_type": "stream",
     "text": [
      "12\n"
     ]
    },
    {
     "name": "stderr",
     "output_type": "stream",
     "text": [
      " 16%|█▌        | 8133/51033 [32:42<1:47:08,  6.67it/s]"
     ]
    },
    {
     "name": "stdout",
     "output_type": "stream",
     "text": [
      "13\n"
     ]
    },
    {
     "name": "stderr",
     "output_type": "stream",
     "text": [
      " 17%|█▋        | 8621/51033 [34:33<2:10:22,  5.42it/s]"
     ]
    },
    {
     "name": "stdout",
     "output_type": "stream",
     "text": [
      "14\n"
     ]
    },
    {
     "name": "stderr",
     "output_type": "stream",
     "text": [
      " 17%|█▋        | 8720/51033 [34:54<2:24:23,  4.88it/s]"
     ]
    },
    {
     "name": "stdout",
     "output_type": "stream",
     "text": [
      "15\n"
     ]
    },
    {
     "name": "stderr",
     "output_type": "stream",
     "text": [
      " 17%|█▋        | 8852/51033 [35:23<2:17:18,  5.12it/s]"
     ]
    },
    {
     "name": "stdout",
     "output_type": "stream",
     "text": [
      "16\n"
     ]
    },
    {
     "name": "stderr",
     "output_type": "stream",
     "text": [
      " 17%|█▋        | 8914/51033 [35:37<1:59:14,  5.89it/s]"
     ]
    },
    {
     "name": "stdout",
     "output_type": "stream",
     "text": [
      "17\n"
     ]
    },
    {
     "name": "stderr",
     "output_type": "stream",
     "text": [
      " 18%|█▊        | 9002/51033 [35:54<2:13:03,  5.26it/s]"
     ]
    },
    {
     "name": "stdout",
     "output_type": "stream",
     "text": [
      "18\n"
     ]
    },
    {
     "name": "stderr",
     "output_type": "stream",
     "text": [
      " 20%|█▉        | 10200/51033 [40:18<2:17:01,  4.97it/s]"
     ]
    },
    {
     "name": "stdout",
     "output_type": "stream",
     "text": [
      "19\n"
     ]
    },
    {
     "name": "stderr",
     "output_type": "stream",
     "text": [
      " 20%|██        | 10232/51033 [40:27<3:18:11,  3.43it/s]"
     ]
    }
   ],
   "source": [
    "for path in tqdm.tqdm(df[\"image\"]):\n",
    "    img = cv2.imread(\"../../KaggleData/train_images/\" + path)\n",
    "    img = cv2.resize(img,TARGET_SHAPE)\n",
    "    org = img.copy()\n",
    "\n",
    "    img_gray = cv2.cvtColor(img ,cv2.COLOR_RGB2GRAY)\n",
    "    img_gray = cv2.medianBlur(img_gray, 7)\n",
    "\n",
    "    try:\n",
    "        edges = cv2.Canny(img_gray, 100, 200)\n",
    "\n",
    "        kernel = cv2.getStructuringElement(cv2.MORPH_RECT, (15, 15))\n",
    "        edges = cv2.morphologyEx(edges, cv2.MORPH_CLOSE, kernel)\n",
    "\n",
    "        top, bottom, left, right = find_box(edges)\n",
    "        rec = (left[0], top[1], right[0]-left[0], bottom[1]-top[1])\n",
    "\n",
    "        result = foreground_extraction(org, rec)\n",
    "\n",
    "    except:\n",
    "        error_count +=1\n",
    "        result = org\n",
    "        print(error_count)\n",
    "    cv2.imwrite(testing_path+path,result)"
   ]
  },
  {
   "cell_type": "code",
   "execution_count": null,
   "id": "29ff9b7c",
   "metadata": {},
   "outputs": [],
   "source": [
    "# 20%|█▉        | 10145 cut"
   ]
  }
 ],
 "metadata": {
  "kernelspec": {
   "display_name": "whale",
   "language": "python",
   "name": "whale"
  },
  "language_info": {
   "codemirror_mode": {
    "name": "ipython",
    "version": 3
   },
   "file_extension": ".py",
   "mimetype": "text/x-python",
   "name": "python",
   "nbconvert_exporter": "python",
   "pygments_lexer": "ipython3",
   "version": "3.9.7"
  }
 },
 "nbformat": 4,
 "nbformat_minor": 5
}
