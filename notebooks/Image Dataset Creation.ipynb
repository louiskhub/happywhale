{
 "cells": [
  {
   "cell_type": "code",
   "execution_count": 1,
   "id": "8abc979d",
   "metadata": {},
   "outputs": [],
   "source": [
    "import sys\n",
    "sys.path.append(\"..\")\n",
    "sys.path.append(\"../src\")\n",
    "from data_augmentation import *\n",
    "import numpy as np\n",
    "import pandas as pd\n",
    "import tensorflow_datasets as tfds\n",
    "from util import *\n",
    "import tqdm \n",
    "import matplotlib.pyplot as plt\n",
    "df = TRAIN_SPECIES_DF"
   ]
  },
  {
   "cell_type": "code",
   "execution_count": 2,
   "id": "a1c8e81c",
   "metadata": {},
   "outputs": [
    {
     "data": {
      "text/plain": [
       "'../../OurTrainingData'"
      ]
     },
     "execution_count": 2,
     "metadata": {},
     "output_type": "execute_result"
    }
   ],
   "source": [
    "df = TRAIN_SPECIES_DF\n",
    "TRAIN_DATA_PATH"
   ]
  },
  {
   "cell_type": "code",
   "execution_count": 3,
   "id": "ee79fdf0",
   "metadata": {},
   "outputs": [],
   "source": [
    "ds = tf.data.Dataset.from_tensor_slices(df[\"image\"])\n",
    "\n",
    "def mapping_func(path):\n",
    "    img = tf.io.read_file( \"../../KaggleData/train_images/\" + path)\n",
    "    img = tf.io.decode_jpeg(img, channels=3)\n",
    "    img = tf.image.resize(img,TARGET_SHAPE)\n",
    "    return (img,path)\n",
    "ds = ds.map(mapping_func)"
   ]
  },
  {
   "cell_type": "code",
   "execution_count": 4,
   "id": "11707897",
   "metadata": {},
   "outputs": [
    {
     "name": "stderr",
     "output_type": "stream",
     "text": [
      "100%|██████████| 51033/51033 [05:56<00:00, 142.99it/s]\n"
     ]
    }
   ],
   "source": [
    "for img,path in tqdm.tqdm(tfds.as_numpy(ds)):\n",
    "    img = cv2.cvtColor(img, cv2.COLOR_RGB2BGR)\n",
    "    cv2.imwrite(TRAIN_DATA_PATH + \"/\" + path.decode(\"utf-8\"), img)"
   ]
  },
  {
   "cell_type": "code",
   "execution_count": null,
   "id": "46895103",
   "metadata": {},
   "outputs": [],
   "source": []
  }
 ],
 "metadata": {
  "kernelspec": {
   "display_name": "whale",
   "language": "python",
   "name": "whale"
  },
  "language_info": {
   "codemirror_mode": {
    "name": "ipython",
    "version": 3
   },
   "file_extension": ".py",
   "mimetype": "text/x-python",
   "name": "python",
   "nbconvert_exporter": "python",
   "pygments_lexer": "ipython3",
   "version": "3.9.7"
  }
 },
 "nbformat": 4,
 "nbformat_minor": 5
}
