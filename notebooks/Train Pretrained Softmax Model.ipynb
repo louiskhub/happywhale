{
 "cells": [
  {
   "cell_type": "code",
   "execution_count": null,
   "id": "f09115e2",
   "metadata": {},
   "outputs": [],
   "source": [
    "import sys\n",
    "sys.path.append(\"..\")\n",
    "sys.path.append(\"../src\")\n",
    "from src import DS_Generator\n",
    "import tensorflow as tf\n",
    "import matplotlib.pyplot as plt\n",
    "import numpy as np\n",
    "from util import TRAIN_SPECIES_DF,TRAIN_DATA_PATH, SOFT_MAX_MODEL_PATH, INDIVIDUMS_SEED,SOFT_MAX_MODEL_PATH\n",
    "import datetime\n",
    "from src.Visualizer import nicer_classes\n",
    "import os\n",
    "import matplotlib.pyplot as plt\n",
    "import tensorflow_datasets as tfds\n",
    "import tensorflow_addons as tfatrain"
   ]
  }
 ],
 "metadata": {
  "kernelspec": {
   "display_name": "whale",
   "language": "python",
   "name": "whale"
  },
  "language_info": {
   "codemirror_mode": {
    "name": "ipython",
    "version": 3
   },
   "file_extension": ".py",
   "mimetype": "text/x-python",
   "name": "python",
   "nbconvert_exporter": "python",
   "pygments_lexer": "ipython3",
   "version": "3.9.7"
  }
 },
 "nbformat": 4,
 "nbformat_minor": 5
}
