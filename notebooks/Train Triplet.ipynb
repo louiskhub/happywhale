{
 "cells": [
  {
   "cell_type": "code",
   "execution_count": 1,
   "id": "a44ad604",
   "metadata": {},
   "outputs": [],
   "source": [
    "import sys\n",
    "sys.path.append(\"..\")\n",
    "sys.path.append(\"../src\")\n",
    "from src import DS_Generator\n",
    "import tensorflow as tf\n",
    "import matplotlib.pyplot as plt\n",
    "import numpy as np\n",
    "from util import TRAIN_SPECIES_DF,SPECIES_SEED ,NUMBER_OF_SPECIES,TRAIN_DATA_PATH\n",
    "import datetime\n",
    "from src.Visualizer import nicer_classes\n",
    "import os\n",
    "import matplotlib.pyplot as plt\n",
    "import tensorflow_datasets as tfds"
   ]
  },
  {
   "cell_type": "markdown",
   "id": "856a7102",
   "metadata": {},
   "source": [
    "## Load Best Performing model"
   ]
  },
  {
   "cell_type": "code",
   "execution_count": 2,
   "id": "8feb7ee5",
   "metadata": {},
   "outputs": [
    {
     "data": {
      "text/plain": [
       "<tensorflow.python.training.tracking.util.CheckpointLoadStatus at 0x2759d956e50>"
      ]
     },
     "execution_count": 2,
     "metadata": {},
     "output_type": "execute_result"
    }
   ],
   "source": [
    "Input = tf.keras.Input((224,224,3))\n",
    "base = tf.keras.applications.inception_v3.InceptionV3(\n",
    "    include_top=False,\n",
    "    weights='imagenet',\n",
    "    input_tensor=Input,\n",
    "    input_shape=None,\n",
    "    pooling=\"max\",\n",
    "    classifier_activation='softmax'\n",
    ")\n",
    "head = tf.keras.layers.Dense(NUMBER_OF_SPECIES,activation=\"softmax\",)(base.output)\n",
    "model = tf.keras.Model(inputs=Input, outputs=head,name=\"Inceptionv3maxpoolimagenet\")\n",
    "\n",
    "# load best performing weighs\n",
    "model.load_weights(\"../../models/Inceptionv3maxpoolimagenet/saves/20220330-135917\\cp-0006.ckpt\")\n",
    "\n"
   ]
  },
  {
   "cell_type": "code",
   "execution_count": 3,
   "id": "8a92dcab",
   "metadata": {},
   "outputs": [
    {
     "name": "stdout",
     "output_type": "stream",
     "text": [
      "WARNING:tensorflow:Compiled the loaded model, but the compiled metrics have yet to be built. `model.compile_metrics` will be empty until you train or evaluate the model.\n",
      "INFO:tensorflow:Assets written to: ../Saved Models/inception_v3_max_pooling_imagenet_weights.model\\assets\n"
     ]
    }
   ],
   "source": [
    "model.save(\"../Saved Models/inception_v3_max_pooling_imagenet_weights.model\")"
   ]
  }
 ],
 "metadata": {
  "kernelspec": {
   "display_name": "whale",
   "language": "python",
   "name": "whale"
  },
  "language_info": {
   "codemirror_mode": {
    "name": "ipython",
    "version": 3
   },
   "file_extension": ".py",
   "mimetype": "text/x-python",
   "name": "python",
   "nbconvert_exporter": "python",
   "pygments_lexer": "ipython3",
   "version": "3.9.7"
  }
 },
 "nbformat": 4,
 "nbformat_minor": 5
}
