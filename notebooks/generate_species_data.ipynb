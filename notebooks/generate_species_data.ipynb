{
 "cells": [
  {
   "cell_type": "code",
   "execution_count": 3,
   "id": "a3bd68b4",
   "metadata": {},
   "outputs": [],
   "source": [
    "import shutil\n",
    "from util import TRAIN_IMG_FOLDER, TRAIN_CSV, TRAIN_DATA_PATH, PRELIM_TRAIN_DF, TARGET_SHAPE\n",
    "from src.Extractor import create_our_training_data"
   ]
  },
  {
   "cell_type": "code",
   "execution_count": null,
   "id": "155e5f29",
   "metadata": {
    "pycharm": {
     "name": "#%%\n"
    }
   },
   "outputs": [],
   "source": [
    "#shutil.copy(TRAIN_CSV, \"../\" + TRAIN_DATA_PATH + \"/species_data.csv\")"
   ]
  },
  {
   "cell_type": "code",
   "execution_count": 5,
   "id": "4fb70a98",
   "metadata": {},
   "outputs": [
    {
     "data": {
      "text/plain": "                image             species individual_id\n0  00021adfb725ed.jpg  melon_headed_whale  cadddb1636b9\n1  000562241d384d.jpg      humpback_whale  1a71fbb72250\n2  0007c33415ce37.jpg  false_killer_whale  60008f293a2b\n3  0007d9bca26a99.jpg  bottlenose_dolphin  4b00fe572063\n4  00087baf5cef7a.jpg      humpback_whale  8e5253662392",
      "text/html": "<div>\n<style scoped>\n    .dataframe tbody tr th:only-of-type {\n        vertical-align: middle;\n    }\n\n    .dataframe tbody tr th {\n        vertical-align: top;\n    }\n\n    .dataframe thead th {\n        text-align: right;\n    }\n</style>\n<table border=\"1\" class=\"dataframe\">\n  <thead>\n    <tr style=\"text-align: right;\">\n      <th></th>\n      <th>image</th>\n      <th>species</th>\n      <th>individual_id</th>\n    </tr>\n  </thead>\n  <tbody>\n    <tr>\n      <th>0</th>\n      <td>00021adfb725ed.jpg</td>\n      <td>melon_headed_whale</td>\n      <td>cadddb1636b9</td>\n    </tr>\n    <tr>\n      <th>1</th>\n      <td>000562241d384d.jpg</td>\n      <td>humpback_whale</td>\n      <td>1a71fbb72250</td>\n    </tr>\n    <tr>\n      <th>2</th>\n      <td>0007c33415ce37.jpg</td>\n      <td>false_killer_whale</td>\n      <td>60008f293a2b</td>\n    </tr>\n    <tr>\n      <th>3</th>\n      <td>0007d9bca26a99.jpg</td>\n      <td>bottlenose_dolphin</td>\n      <td>4b00fe572063</td>\n    </tr>\n    <tr>\n      <th>4</th>\n      <td>00087baf5cef7a.jpg</td>\n      <td>humpback_whale</td>\n      <td>8e5253662392</td>\n    </tr>\n  </tbody>\n</table>\n</div>"
     },
     "execution_count": 5,
     "metadata": {},
     "output_type": "execute_result"
    }
   ],
   "source": [
    "train_df = PRELIM_TRAIN_DF\n",
    "train_df.head()"
   ]
  },
  {
   "cell_type": "code",
   "execution_count": 6,
   "id": "702f74d6",
   "metadata": {},
   "outputs": [
    {
     "data": {
      "text/plain": "                    image             species individual_id  individum_count  \\\n0      00021adfb725ed.jpg  melon_headed_whale  cadddb1636b9                1   \n16738  546ddeb9e61698.jpg      humpback_whale  7c3b38f5ba08                1   \n16742  5471e8805a8aef.jpg       dusky_dolphin  a001b65ffdfd                1   \n16748  547ee6a4582a34.jpg  melon_headed_whale  52b9a021286d                1   \n16752  548462d50b56e4.jpg      humpback_whale  e5dad0d8b4f5                1   \n\n       label  species_label  species_counts  \n0      12348             18            1689  \n16738   7621             14            7392  \n16742   9769              8            3139  \n16748   5030             18            1689  \n16752  14018             14            7392  ",
      "text/html": "<div>\n<style scoped>\n    .dataframe tbody tr th:only-of-type {\n        vertical-align: middle;\n    }\n\n    .dataframe tbody tr th {\n        vertical-align: top;\n    }\n\n    .dataframe thead th {\n        text-align: right;\n    }\n</style>\n<table border=\"1\" class=\"dataframe\">\n  <thead>\n    <tr style=\"text-align: right;\">\n      <th></th>\n      <th>image</th>\n      <th>species</th>\n      <th>individual_id</th>\n      <th>individum_count</th>\n      <th>label</th>\n      <th>species_label</th>\n      <th>species_counts</th>\n    </tr>\n  </thead>\n  <tbody>\n    <tr>\n      <th>0</th>\n      <td>00021adfb725ed.jpg</td>\n      <td>melon_headed_whale</td>\n      <td>cadddb1636b9</td>\n      <td>1</td>\n      <td>12348</td>\n      <td>18</td>\n      <td>1689</td>\n    </tr>\n    <tr>\n      <th>16738</th>\n      <td>546ddeb9e61698.jpg</td>\n      <td>humpback_whale</td>\n      <td>7c3b38f5ba08</td>\n      <td>1</td>\n      <td>7621</td>\n      <td>14</td>\n      <td>7392</td>\n    </tr>\n    <tr>\n      <th>16742</th>\n      <td>5471e8805a8aef.jpg</td>\n      <td>dusky_dolphin</td>\n      <td>a001b65ffdfd</td>\n      <td>1</td>\n      <td>9769</td>\n      <td>8</td>\n      <td>3139</td>\n    </tr>\n    <tr>\n      <th>16748</th>\n      <td>547ee6a4582a34.jpg</td>\n      <td>melon_headed_whale</td>\n      <td>52b9a021286d</td>\n      <td>1</td>\n      <td>5030</td>\n      <td>18</td>\n      <td>1689</td>\n    </tr>\n    <tr>\n      <th>16752</th>\n      <td>548462d50b56e4.jpg</td>\n      <td>humpback_whale</td>\n      <td>e5dad0d8b4f5</td>\n      <td>1</td>\n      <td>14018</td>\n      <td>14</td>\n      <td>7392</td>\n    </tr>\n  </tbody>\n</table>\n</div>"
     },
     "execution_count": 6,
     "metadata": {},
     "output_type": "execute_result"
    }
   ],
   "source": [
    "import numpy as np\n",
    "train_df['individum_count'] = train_df.groupby('individual_id')['individual_id'].transform('count') # introduce counts for later\n",
    "\n",
    "# For later we create int labels\n",
    "ids= np.unique(train_df[\"individual_id\"].values)\n",
    "give_int_id = np.vectorize(lambda id_of_animal: int(np.where(ids==id_of_animal)[0]))\n",
    "train_df[\"label\"] = give_int_id(train_df[\"individual_id\"])\n",
    "\n",
    "species_ids = np.unique(train_df[\"species\"].values)\n",
    "give_species_int_id = np.vectorize(lambda id_of_animal: int(np.where(species_ids==id_of_animal)[0]))\n",
    "train_df[\"species_label\"] = give_species_int_id(train_df[\"species\"])\n",
    "\n",
    "train_df[\"species_counts\"] = train_df.groupby('species_label')[\"species_label\"].transform('count')\n",
    "\n",
    "train_df = train_df.sort_values(['individum_count'])\n",
    "\n",
    "train_df.head()"
   ]
  },
  {
   "cell_type": "code",
   "execution_count": 8,
   "id": "c305bc8e",
   "metadata": {},
   "outputs": [],
   "source": [
    "train_df.to_csv(TRAIN_DATA_PATH + \"/species_data.csv\")"
   ]
  }
 ],
 "metadata": {
  "kernelspec": {
   "display_name": "Python 3 (ipykernel)",
   "language": "python",
   "name": "python3"
  },
  "language_info": {
   "codemirror_mode": {
    "name": "ipython",
    "version": 3
   },
   "file_extension": ".py",
   "mimetype": "text/x-python",
   "name": "python",
   "nbconvert_exporter": "python",
   "pygments_lexer": "ipython3",
   "version": "3.9.0"
  }
 },
 "nbformat": 4,
 "nbformat_minor": 5
}