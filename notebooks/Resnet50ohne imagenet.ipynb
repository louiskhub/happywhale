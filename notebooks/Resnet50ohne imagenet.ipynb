{
 "cells": [
  {
   "cell_type": "code",
   "execution_count": 1,
   "id": "515b7f38",
   "metadata": {},
   "outputs": [],
   "source": [
    "import tensorflow as tf\n",
    "import tensorflow_addons as tfa\n",
    "import tensorflow_datasets as tfds\n",
    "import matplotlib.pyplot as plt\n",
    "import sys\n",
    "sys.path.append(\"..\")\n",
    "sys.path.append(\"../src\")\n",
    "import os\n",
    "from src.DS_Generator import DS_Generator\n",
    "from src.model_evaluation import mean_average_precision\n",
    "from data_augmentation import *\n",
    "import numpy as np\n",
    "import pandas as pd\n",
    "import tensorflow_datasets as tfds\n",
    "from util import *\n",
    "import datetime\n",
    "%load_ext tensorboard"
   ]
  },
  {
   "cell_type": "code",
   "execution_count": null,
   "id": "c09ce979",
   "metadata": {},
   "outputs": [],
   "source": [
    "train_ds, val_ds = DS_Generator().generate_species_data(TRAIN_SPECIES_DF,seed=5,augment=1,batch_size=32)"
   ]
  },
  {
   "cell_type": "code",
   "execution_count": null,
   "id": "1a614868",
   "metadata": {},
   "outputs": [],
   "source": [
    "Input = tf.keras.Input((224,224,3))\n",
    "base = tf.keras.applications.resnet50.ResNet50(weights=None, include_top=False,input_tensor=Input)\n",
    "flatten = base.output\n",
    "flatten = tf.keras.layers.Flatten()(flatten)\n",
    "head = tf.keras.layers.Dense(256, activation=\"relu\")(flatten)\n",
    "head = tf.keras.layers.Dense(128, activation=\"relu\")(head)\n",
    "head = tf.keras.layers.Dense(64, activation=\"relu\")(head)\n",
    "head = tf.keras.layers.Dense(30,activation=\"softmax\")(head)\n",
    "model = tf.keras.Model(inputs=Input, outputs=head,name=\"Resnet50ohneimagenet\")\n",
    "model.compile(optimizer=tf.keras.optimizers.Adam(0.001),loss=\"categorical_crossentropy\",metrics=[\"acc\"])"
   ]
  },
  {
   "cell_type": "code",
   "execution_count": null,
   "id": "2c068b80",
   "metadata": {},
   "outputs": [],
   "source": [
    "if model.name not in os.listdir(\"../../models/\"):\n",
    "    os.makedirs(\"../../models/\"+model.name)\n",
    "    os.makedirs(\"../../models/\"+model.name+\"/logs\")\n",
    "    os.makedirs(\"../../models/\"+model.name+\"/saves\")\n",
    "    \n",
    "time_stamp = datetime.datetime.now().strftime(\"%Y%m%d-%H%M%S\")\n",
    "\n",
    "log_dir = \"../../models/\"+model.name+\"/logs/\" +time_stamp \n",
    "\n",
    "tensorboard_callback = tf.keras.callbacks.TensorBoard(log_dir=log_dir, histogram_freq=1)\n",
    "\n",
    "checkpoint_path = \"../../models/\"+model.name+\"/saves/\" +time_stamp +\"/cp-{epoch:04d}.ckpt\"\n",
    "\n",
    "cp_callback = tf.keras.callbacks.ModelCheckpoint(\n",
    "    filepath=checkpoint_path, \n",
    "    verbose=1, \n",
    "    save_weights_only=True)"
   ]
  },
  {
   "cell_type": "code",
   "execution_count": null,
   "id": "c1cdd501",
   "metadata": {
    "scrolled": true
   },
   "outputs": [],
   "source": [
    "model.fit(\n",
    "train_ds,\n",
    "epochs=15,\n",
    "validation_data=val_ds,\n",
    "callbacks=[cp_callback,tensorboard_callback])"
   ]
  },
  {
   "cell_type": "code",
   "execution_count": null,
   "id": "9c433541",
   "metadata": {},
   "outputs": [],
   "source": []
  }
 ],
 "metadata": {
  "kernelspec": {
   "display_name": "whale",
   "language": "python",
   "name": "whale"
  },
  "language_info": {
   "codemirror_mode": {
    "name": "ipython",
    "version": 3
   },
   "file_extension": ".py",
   "mimetype": "text/x-python",
   "name": "python",
   "nbconvert_exporter": "python",
   "pygments_lexer": "ipython3",
   "version": "3.9.7"
  }
 },
 "nbformat": 4,
 "nbformat_minor": 5
}
