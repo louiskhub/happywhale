{
 "cells": [
  {
   "cell_type": "markdown",
   "source": [
    "This is an example pipeline to train a siamsese model on to the individuals"
   ],
   "metadata": {
    "collapsed": false,
    "pycharm": {
     "name": "#%% md\n"
    }
   }
  },
  {
   "cell_type": "code",
   "execution_count": null,
   "metadata": {
    "collapsed": true
   },
   "outputs": [],
   "source": [
    "from src import ds_generator, models, triplet_eval\n",
    "import util\n",
    "import tensorflow as tf"
   ]
  },
  {
   "cell_type": "code",
   "execution_count": null,
   "outputs": [],
   "source": [
    "batch_size = 64\n",
    "train_ds = ds_generator.DS_Generator().generate_individual_data(util.util.TRAIN_SPECIES_DF,\n",
    "                                                                        batch_size=batch_size,\n",
    "                                                                        augment=True,\n",
    "                                                                        val_split=0.1,\n",
    "                                                                        seed = util.INDIVIDUMS_SEED)"
   ],
   "metadata": {
    "collapsed": false,
    "pycharm": {
     "name": "#%%\n"
    }
   }
  },
  {
   "cell_type": "code",
   "execution_count": null,
   "outputs": [],
   "source": [
    "# load model you man to train, for example:\n",
    "model = models.return_new_siamese_model()\n",
    "\n",
    "# callbacks for logs + model checkpoints\n",
    "log_dir = util.SAVING_PATH + model.name + \"/logs\"\n",
    "\n",
    "tensorboard_callback = tf.keras.callbacks.TensorBoard(log_dir=log_dir, histogram_freq=1)\n",
    "\n",
    "checkpoint_path = util.SAVING_PATH + model.name+ \"/saves/\" +\"/cp-{epoch:04d}.ckpt\"\n",
    "\n",
    "cp_callback = tf.keras.callbacks.ModelCheckpoint(\n",
    "    filepath=checkpoint_path,\n",
    "    verbose=1,\n",
    "    save_weights_only=True)"
   ],
   "metadata": {
    "collapsed": false,
    "pycharm": {
     "name": "#%%\n"
    }
   }
  },
  {
   "cell_type": "code",
   "execution_count": null,
   "outputs": [],
   "source": [
    "# fit model\n",
    "model.fit(train_ds,\n",
    "          epochs=100,\n",
    "          callbacks=[cp_callback,tensorboard_callback])"
   ],
   "metadata": {
    "collapsed": false,
    "pycharm": {
     "name": "#%%\n"
    }
   }
  },
  {
   "cell_type": "code",
   "execution_count": null,
   "outputs": [],
   "source": [
    "# Now we can evaluate our model\n",
    "\n",
    "# first we need all the datasets for evaluation\n",
    "train_ds, val_ds, train_df, val_df =  ds_generator.DS_Generator().generate_individual_data(util.TRAIN_SPECIES_DF,\n",
    "                                                                        batch_size=batch_size,\n",
    "                                                                        augment=True,val_split=0.1,\n",
    "                                                                        seed = util.INDIVIDUMS_SEED,\n",
    "                                                                        return_eval_data=1)\n",
    "# also all the data of the whales with only 1 image\n",
    "new_whales_ds,new_whales_df = ds_generator.DS_Generator().generate_single_individuals_ds(util.TRAIN_SPECIES_DF,batch_size)\n",
    "\n",
    "# then we need to specify an folder where our evaluation images will be saved to\n",
    "folder_path =\"some_path\"\n",
    "# and then a name for the model\n",
    "name = \"our model att epoch xy\"\n",
    "\n",
    "# run eval\n",
    "triplet_eval.create_triplet_eval(model, train_ds, val_ds, train_df, val_df, new_whales_ds, new_whales_df,folder_path,name)"
   ],
   "metadata": {
    "collapsed": false,
    "pycharm": {
     "name": "#%%\n"
    }
   }
  }
 ],
 "metadata": {
  "kernelspec": {
   "display_name": "Python 3",
   "language": "python",
   "name": "python3"
  },
  "language_info": {
   "codemirror_mode": {
    "name": "ipython",
    "version": 2
   },
   "file_extension": ".py",
   "mimetype": "text/x-python",
   "name": "python",
   "nbconvert_exporter": "python",
   "pygments_lexer": "ipython2",
   "version": "2.7.6"
  }
 },
 "nbformat": 4,
 "nbformat_minor": 0
}