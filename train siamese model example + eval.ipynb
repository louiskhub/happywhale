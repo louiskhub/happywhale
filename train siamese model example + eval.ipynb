{
 "cells": [
  {
   "cell_type": "markdown",
   "metadata": {
    "pycharm": {
     "name": "#%% md\n"
    }
   },
   "source": [
    "This is an example pipeline to train a siamsese model on to the individuals"
   ]
  },
  {
   "cell_type": "code",
   "execution_count": 1,
   "metadata": {},
   "outputs": [],
   "source": [
    "from src import ds_generator, models, triplet_eval\n",
    "import util\n",
    "import tensorflow as tf"
   ]
  },
  {
   "cell_type": "code",
   "execution_count": 2,
   "metadata": {
    "pycharm": {
     "name": "#%%\n"
    }
   },
   "outputs": [],
   "source": [
    "batch_size = 64\n",
    "train_ds = ds_generator.DS_Generator().generate_individual_data(util.TRAIN_SPECIES_DF,\n",
    "                                                                        batch_size=batch_size,\n",
    "                                                                        augment=True,\n",
    "                                                                        val_split=0.1,\n",
    "                                                                        seed = util.INDIVIDUMS_SEED)"
   ]
  },
  {
   "cell_type": "code",
   "execution_count": 3,
   "metadata": {
    "pycharm": {
     "name": "#%%\n"
    }
   },
   "outputs": [],
   "source": [
    "# load model you man to train, for example:\n",
    "model = models.return_siamese_control_model()\n",
    "\n",
    "# callbacks for logs + model checkpoints\n",
    "log_dir = util.SAVING_PATH + model.name + \"/logs\"\n",
    "\n",
    "tensorboard_callback = tf.keras.callbacks.TensorBoard(log_dir=log_dir, histogram_freq=1)\n",
    "\n",
    "checkpoint_path = util.SAVING_PATH + model.name+ \"/saves/\" +\"/cp-{epoch:04d}.ckpt\"\n",
    "\n",
    "cp_callback = tf.keras.callbacks.ModelCheckpoint(\n",
    "    filepath=checkpoint_path,\n",
    "    verbose=1,\n",
    "    save_weights_only=True)"
   ]
  },
  {
   "cell_type": "code",
   "execution_count": null,
   "metadata": {
    "pycharm": {
     "name": "#%%\n"
    }
   },
   "outputs": [
    {
     "name": "stdout",
     "output_type": "stream",
     "text": [
      "Epoch 1/200\n",
      " 72/608 [==>...........................] - ETA: 4:57 - loss: 0.9597"
     ]
    }
   ],
   "source": [
    "# fit model\n",
    "model.fit(train_ds,\n",
    "          epochs=200,\n",
    "          callbacks=[cp_callback,tensorboard_callback])"
   ]
  },
  {
   "cell_type": "code",
   "execution_count": null,
   "metadata": {
    "pycharm": {
     "name": "#%%\n"
    }
   },
   "outputs": [],
   "source": [
    "# Now we can evaluate our model\n",
    "\n",
    "# first we need all the datasets for evaluation\n",
    "train_ds, val_ds, train_df, val_df =  ds_generator.DS_Generator().generate_individual_data(util.TRAIN_SPECIES_DF,\n",
    "                                                                        batch_size=batch_size,\n",
    "                                                                        augment=True,val_split=0.1,\n",
    "                                                                        seed = util.INDIVIDUMS_SEED,\n",
    "                                                                        return_eval_data=1)\n",
    "# also all the data of the whales with only 1 image\n",
    "new_whales_ds,new_whales_df = ds_generator.DS_Generator().generate_single_individuals_ds(util.TRAIN_SPECIES_DF,batch_size)\n",
    "\n",
    "# then we need to specify an folder where our evaluation images will be saved to\n",
    "folder_path =\"some_path\"\n",
    "# and then a name for the model\n",
    "name = \"our model att epoch xy\"\n",
    "\n",
    "# run eval\n",
    "triplet_eval.create_triplet_eval(model, train_ds, val_ds, train_df, val_df, new_whales_ds, new_whales_df,folder_path,name)"
   ]
  }
 ],
 "metadata": {
  "kernelspec": {
   "display_name": "whale",
   "language": "python",
   "name": "whale"
  },
  "language_info": {
   "codemirror_mode": {
    "name": "ipython",
    "version": 3
   },
   "file_extension": ".py",
   "mimetype": "text/x-python",
   "name": "python",
   "nbconvert_exporter": "python",
   "pygments_lexer": "ipython3",
   "version": "3.9.7"
  }
 },
 "nbformat": 4,
 "nbformat_minor": 1
}