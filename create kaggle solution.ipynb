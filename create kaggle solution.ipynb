{
 "cells": [
  {
   "cell_type": "markdown",
   "source": [
    "This notebook is to create the submission.csv for the kaggle competion"
   ],
   "metadata": {
    "collapsed": false,
    "pycharm": {
     "name": "#%% md\n"
    }
   }
  },
  {
   "cell_type": "code",
   "execution_count": null,
   "metadata": {
    "collapsed": true
   },
   "outputs": [],
   "source": [
    "from src import ds_generator, models\n",
    "import tensorflow as tf\n",
    "import util\n",
    "import os\n",
    "import tqdm\n",
    "import numpy as np\n",
    "from scipy.spatial.distance import cdist\n",
    "import pandas as pd"
   ]
  },
  {
   "cell_type": "code",
   "execution_count": 1,
   "metadata": {},
   "outputs": [],
   "source": [
    "solutions_folder = \"path_for_our_solutions\"\n",
    "distance_for_new_whales = 0.35"
   ]
  },
  {
   "cell_type": "code",
   "execution_count": null,
   "metadata": {
    "pycharm": {
     "name": "#%%\n"
    }
   },
   "outputs": [],
   "source": [
    "test_df = pd.DataFrame(os.listdir(util.TEST_DATA_PATH),columns=[\"image\"])\n",
    "test_df[\"label\"]=0\n",
    "test_ds = ds_generator.DS_Generator().return_plain_ds(test_df,64,train_imgs = False)\n",
    "whole_train_ds = ds_generator.DS_Generator().return_plain_ds(util.TRAIN_SPECIES_DF,64)"
   ]
  },
  {
   "cell_type": "code",
   "execution_count": null,
   "metadata": {},
   "outputs": [],
   "source": [
    "# some model you want to try\n",
    "model = models.return_soft_max_pretrained_siamese_model()"
   ]
  },
  {
   "cell_type": "code",
   "execution_count": null,
   "metadata": {
    "pycharm": {
     "name": "#%%\n"
    }
   },
   "outputs": [],
   "source": [
    "train_embedding = model.predict(whole_train_ds,verbose=1)\n",
    "test_embedding = model.predict(test_ds,verbose=1)\n",
    "\n",
    "# save just in case\n",
    "np.save(solutions_folder + \"/train_embedding.npy\",train_embedding)\n",
    "np.save(solutions_folder + \"/test_embedding.npy\",test_embedding )\n",
    "\n",
    "\n",
    "# compute the pairwise_distance (this will take long)\n",
    "pairwise_distance = cdist(test_embedding,train_embedding) # distance_‘cosine’\n",
    "# and also save it just in case\n",
    "np.save(solutions_folder + \"/pairwise_distance.npy\",pairwise_distance )\n",
    "\n",
    "# split it up to not overstress memory and then calculate best 5 vals/indexes\n",
    "split_ups = np.ceil(np.linspace(0,27956)).astype(int)\n",
    "closest_vals, closest_indices = list(),list()\n",
    "for i in tqdm.tqdm(range(1,len(split_ups))):\n",
    "    split = pairwise_distance[split_ups[i-1]:split_ups[i]]\n",
    "    vals , indexes = tf.nn.top_k(tf.math.negative(split),5)\n",
    "    vals = tf.math.negative(vals)\n",
    "    closest_vals.append(vals)\n",
    "    closest_indices.append(indexes)\n",
    "\n",
    "# re-concatenate\n",
    "best_vals = np.concatenate(closest_vals)\n",
    "best_indexes = np.concatenate(closest_indices)\n",
    "\n",
    "for i in tqdm.tqdm(range(len(test_df))):\n",
    "    distances = best_vals [i]\n",
    "    labels = [util.TRAIN_SPECIES_DF.iloc[k,2] for k in best_indexes[i]]\n",
    "\n",
    "    # if the distance to a neighboring whale is bigger then the distance for new whales, insert a new whale\n",
    "    args = np.argwhere(distances > distance_for_new_whales)\n",
    "    if len(args)!=0:\n",
    "        first = int(args[0,0])\n",
    "        labels.insert(first,\"new_individual\")\n",
    "\n",
    "    test_df.iloc[i,-1]= \" \".join(labels[:5])\n",
    "\n",
    "# print submission.csv\n",
    "test_df.to_csv(solutions_folder + \"/submission.csv\",index=False,columns=[\"image\",\"predictions\"])"
   ]
  }
 ],
 "metadata": {
  "kernelspec": {
   "display_name": "Python 3 (ipykernel)",
   "language": "python",
   "name": "python3"
  },
  "language_info": {
   "codemirror_mode": {
    "name": "ipython",
    "version": 3
   },
   "file_extension": ".py",
   "mimetype": "text/x-python",
   "name": "python",
   "nbconvert_exporter": "python",
   "pygments_lexer": "ipython3",
   "version": "3.9.7"
  }
 },
 "nbformat": 4,
 "nbformat_minor": 1
}