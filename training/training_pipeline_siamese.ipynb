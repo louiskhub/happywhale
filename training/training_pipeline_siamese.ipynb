{
 "cells": [
  {
   "cell_type": "markdown",
   "metadata": {
    "pycharm": {
     "name": "#%% md\n"
    }
   },
   "source": [
    "This is an example pipeline to train a siamsese model on to the individuals"
   ]
  },
  {
   "cell_type": "code",
   "execution_count": 1,
   "metadata": {},
   "outputs": [],
   "source": [
    "# if you run this local\n",
    "\n",
    "import os\n",
    "if os.getcwd()[-10:] != \"happywhale\":\n",
    "    os.chdir(\"..\")"
   ]
  },
  {
   "cell_type": "code",
   "execution_count": null,
   "metadata": {},
   "outputs": [],
   "source": [
    "# if you run this online (i.e. Colab)\n",
    "\n",
    "!git clone https://github.com/louiskhub/happywhale.git\n",
    "%cd happywhale"
   ]
  },
  {
   "cell_type": "code",
   "execution_count": 2,
   "metadata": {},
   "outputs": [],
   "source": [
    "from src import ds_generator, models, triplet_eval\n",
    "import util\n",
    "import tensorflow as tf"
   ]
  },
  {
   "cell_type": "code",
   "execution_count": 9,
   "metadata": {
    "pycharm": {
     "name": "#%%\n"
    }
   },
   "outputs": [],
   "source": [
    "batch_size = 64\n",
    "train_ds = ds_generator.DS_Generator().generate_individual_data(util.TRAIN_DF,\n",
    "                                                                        batch_size=batch_size,\n",
    "                                                                        augment=True,\n",
    "                                                                        val_split=0.1,\n",
    "                                                                        seed = util.INDIVIDUALS_SEED)"
   ]
  },
  {
   "cell_type": "code",
   "execution_count": 4,
   "metadata": {
    "pycharm": {
     "name": "#%%\n"
    }
   },
   "outputs": [
    {
     "data": {
      "text/html": [
       "\n",
       "      <iframe id=\"tensorboard-frame-971e329083633d55\" width=\"100%\" height=\"800\" frameborder=\"0\">\n",
       "      </iframe>\n",
       "      <script>\n",
       "        (function() {\n",
       "          const frame = document.getElementById(\"tensorboard-frame-971e329083633d55\");\n",
       "          const url = new URL(\"/\", window.location);\n",
       "          const port = 6006;\n",
       "          if (port) {\n",
       "            url.port = port;\n",
       "          }\n",
       "          frame.src = url;\n",
       "        })();\n",
       "      </script>\n",
       "    "
      ],
      "text/plain": [
       "<IPython.core.display.HTML object>"
      ]
     },
     "metadata": {},
     "output_type": "display_data"
    }
   ],
   "source": [
    "# load model you man to train, for example:\n",
    "model = models.return_siamese_control_model()\n",
    "\n",
    "# callbacks for logs + model checkpoints\n",
    "log_dir = util.SAVING_PATH + model.name + \"/logs\"\n",
    "\n",
    "tensorboard_callback = tf.keras.callbacks.TensorBoard(log_dir=log_dir, histogram_freq=1)\n",
    "\n",
    "checkpoint_path = util.SAVING_PATH + model.name+ \"/saves/\" +\"/cp-{epoch:04d}.ckpt\"\n",
    "\n",
    "cp_callback = tf.keras.callbacks.ModelCheckpoint(\n",
    "    filepath=checkpoint_path,\n",
    "    verbose=1,\n",
    "    save_weights_only=True)\n",
    "\n",
    "%load_ext tensorboard\n",
    "%tensorboard --logdir # (Your log dir util.SAVING_PATH + \"/\" + model.name + \"/logs\")"
   ]
  },
  {
   "cell_type": "code",
   "execution_count": null,
   "metadata": {},
   "outputs": [],
   "source": [
    "# fit model\n",
    "model.fit(train_ds,\n",
    "          epochs=200,\n",
    "          callbacks=[cp_callback,tensorboard_callback])"
   ]
  },
  {
   "cell_type": "code",
   "execution_count": null,
   "metadata": {},
   "outputs": [],
   "source": [
    "# Now we can evaluate our model\n",
    "\n",
    "# first we need all the datasets for evaluation\n",
    "train_ds, val_ds, train_df, val_df =  ds_generator.DS_Generator().generate_individual_data(util.TRAIN_DF,\n",
    "                                                                        batch_size=batch_size,\n",
    "                                                                        augment=True,val_split=0.1,\n",
    "                                                                        seed = util.INDIVIDUALS_SEED,\n",
    "                                                                        return_eval_data=1)\n",
    "# also all the data of the whales with only 1 image\n",
    "new_whales_ds,new_whales_df = ds_generator.DS_Generator().generate_single_individuals_ds(util.TRAIN_DF,batch_size)\n",
    "\n",
    "# then we need to specify an folder where our evaluation images will be saved to\n",
    "folder_path =\"some_path\"\n",
    "# and then a name for the model\n",
    "name = \"our model att epoch xy\"\n",
    "\n",
    "# run eval\n",
    "triplet_eval.create_triplet_eval(model, train_ds, val_ds, train_df, val_df, new_whales_ds,folder_path,name)"
   ]
  },
  {
   "cell_type": "code",
   "execution_count": null,
   "metadata": {},
   "outputs": [],
   "source": []
  }
 ],
 "metadata": {
  "kernelspec": {
   "display_name": "whale",
   "language": "python",
   "name": "whale"
  },
  "language_info": {
   "codemirror_mode": {
    "name": "ipython",
    "version": 3
   },
   "file_extension": ".py",
   "mimetype": "text/x-python",
   "name": "python",
   "nbconvert_exporter": "python",
   "pygments_lexer": "ipython3",
   "version": "3.9.7"
  }
 },
 "nbformat": 4,
 "nbformat_minor": 1
}
