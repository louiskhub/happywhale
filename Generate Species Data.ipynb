{
 "cells": [
  {
   "cell_type": "code",
   "execution_count": null,
   "id": "a3bd68b4",
   "metadata": {},
   "outputs": [
    {
     "name": "stderr",
     "output_type": "stream",
     "text": [
      "100%|█████████▉| 50863/51033 [58:58<00:06, 25.62it/s]  "
     ]
    }
   ],
   "source": [
    "from util import IMG_FOLDER, IMG_CSV\n",
    "from util import  PATH_FOR_OUR_TRAINING_DATA, TARGET_SHAPE,UPPER_LIMIT_OF_IMAGES \n",
    "from Extractor import create_our_training_data\n",
    "\n",
    "PATH_FOR_OUR_TRAINING_DATA = \"../OurSpeciesTrainingData\"\n",
    "IMG_CSV.to_csv(PATH_FOR_OUR_TRAINING_DATA+\"/data.csv\")\n",
    "create_our_training_data(IMG_FOLDER,PATH_FOR_OUR_TRAINING_DATA,TARGET_SHAPE)"
   ]
  }
 ],
 "metadata": {
  "kernelspec": {
   "display_name": "gpu",
   "language": "python",
   "name": "gpu"
  },
  "language_info": {
   "codemirror_mode": {
    "name": "ipython",
    "version": 3
   },
   "file_extension": ".py",
   "mimetype": "text/x-python",
   "name": "python",
   "nbconvert_exporter": "python",
   "pygments_lexer": "ipython3",
   "version": "3.9.7"
  }
 },
 "nbformat": 4,
 "nbformat_minor": 5
}
