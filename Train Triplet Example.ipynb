{
 "cells": [
  {
   "cell_type": "code",
   "execution_count": null,
   "metadata": {
    "collapsed": true
   },
   "outputs": [],
   "source": [
    "from src import ds_Generator\n",
    "import tensorflow as tf\n",
    "import matplotlib.pyplot as plt\n",
    "from util import TRAIN_SPECIES_DF,TRAIN_DATA_PATH, INDIVIDUMS_SEED, SAVING_PATH\n",
    "import datetime\n",
    "import os\n",
    "from models import return_new_siamese_model"
   ]
  },
  {
   "cell_type": "code",
   "execution_count": null,
   "outputs": [],
   "source": [
    "batch_size = 64\n",
    "train_ds = DS_Generator.DS_Generator().generate_individual_data(TRAIN_SPECIES_DF,\n",
    "                                                                        batch_size=batch_size,\n",
    "                                                                        augment=True,val_split=0.1,\n",
    "                                                                        seed = INDIVIDUMS_SEED)"
   ],
   "metadata": {
    "collapsed": false,
    "pycharm": {
     "name": "#%%\n"
    }
   }
  },
  {
   "cell_type": "code",
   "execution_count": null,
   "outputs": [],
   "source": [
    "model = return_new_siamese_model()\n",
    "\n",
    "log_dir = SAVING_PATH + model.name+\"/logs\"\n",
    "\n",
    "tensorboard_callback = tf.keras.callbacks.TensorBoard(log_dir=log_dir, histogram_freq=1)\n",
    "\n",
    "checkpoint_path = SAVING_PATH +model.name+\"/saves/\" +\"/cp-{epoch:04d}.ckpt\"\n",
    "\n",
    "cp_callback = tf.keras.callbacks.ModelCheckpoint(\n",
    "    filepath=checkpoint_path,\n",
    "    verbose=1,\n",
    "    save_weights_only=True)\n",
    "\n",
    "model.fit(train_ds,\n",
    "          epochs=100,\n",
    "          callbacks=[cp_callback,tensorboard_callback])"
   ],
   "metadata": {
    "collapsed": false,
    "pycharm": {
     "name": "#%%\n"
    }
   }
  },
  {
   "cell_type": "code",
   "execution_count": null,
   "outputs": [],
   "source": [
    "model.fit(train_ds,\n",
    "          epochs=200,\n",
    "          callbacks=[cp_callback,tensorboard_callback])"
   ],
   "metadata": {
    "collapsed": false,
    "pycharm": {
     "name": "#%%\n"
    }
   }
  }
 ],
 "metadata": {
  "kernelspec": {
   "display_name": "Python 3",
   "language": "python",
   "name": "python3"
  },
  "language_info": {
   "codemirror_mode": {
    "name": "ipython",
    "version": 2
   },
   "file_extension": ".py",
   "mimetype": "text/x-python",
   "name": "python",
   "nbconvert_exporter": "python",
   "pygments_lexer": "ipython2",
   "version": "2.7.6"
  }
 },
 "nbformat": 4,
 "nbformat_minor": 0
}