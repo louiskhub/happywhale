{
 "cells": [
  {
   "cell_type": "markdown",
   "source": [
    "This notebook is to evaluate the designated Softmax Model trained on the 30 Species"
   ],
   "metadata": {
    "collapsed": false,
    "pycharm": {
     "name": "#%% md\n"
    }
   }
  },
  {
   "cell_type": "code",
   "execution_count": null,
   "metadata": {
    "collapsed": true
   },
   "outputs": [],
   "source": [
    "from src import ds_generator,visualizer\n",
    "import tensorflow as tf\n",
    "import util"
   ]
  },
  {
   "cell_type": "code",
   "execution_count": null,
   "outputs": [],
   "source": [
    "train_ds, val_ds, test_ds, df = ds_generator.DS_Generator().generate_species_data(util.TRAIN_SPECIES_DF,\n",
    "                                                                                  augment=1,\n",
    "                                                                                  batch_size=64,\n",
    "                                                                                  seed=util.SPECIES_SEED,\n",
    "                                                                                  return_eval_data=True)\n",
    "test_df = df[df[\"which_set\"] == \"test_ds\"]\n",
    "## Load Best Performing model\n",
    "model = tf.keras.models.load_model(\"Saved Models/inception_v3_max_pooling_imagenet_weights\")\n",
    "# compile it with the metrics you want\n",
    "model.compile(optimizer=tf.keras.optimizers.Adam(0.001), loss=\"categorical_crossentropy\",\n",
    "              metrics=[\"acc\", tf.keras.metrics.TopKCategoricalAccuracy(\n",
    "                  k=3, name='top_3_categorical_accuracy'\n",
    "              )])\n",
    "# evaluate it\n",
    "model.evaluate(test_ds, batch_size=64)"
   ],
   "metadata": {
    "collapsed": false,
    "pycharm": {
     "name": "#%%\n"
    }
   }
  },
  {
   "cell_type": "code",
   "execution_count": null,
   "outputs": [],
   "source": [
    "# calculate test embeddings and get top 3 highest predictions\n",
    "predicted_test_data = model.predict(test_ds.batch(64))\n",
    "best_3_vals,best_3_indices = tf.nn.top_k(tf.math.negative(predicted_test_data ),3)\n",
    "best_3_vals = tf.math.negative(best_3_vals)\n",
    "best_3_vals,best_3_indices = map(lambda x: x.numpy(),[best_3_vals,best_3_indices])"
   ],
   "metadata": {
    "collapsed": false,
    "pycharm": {
     "name": "#%%\n"
    }
   }
  },
  {
   "cell_type": "code",
   "execution_count": null,
   "outputs": [],
   "source": [
    "# plot results\n",
    "visualizer.eval_soft_max_plot_test_whales(test_ds,best_3_indices,best_3_vals,columns=3,rows=40)\n",
    "visualizer.eval_soft_max_plot_acc_by_class(test_df, best_3_indices, best_3_vals)"
   ],
   "metadata": {
    "collapsed": false,
    "pycharm": {
     "name": "#%%\n"
    }
   }
  }
 ],
 "metadata": {
  "kernelspec": {
   "display_name": "Python 3",
   "language": "python",
   "name": "python3"
  },
  "language_info": {
   "codemirror_mode": {
    "name": "ipython",
    "version": 2
   },
   "file_extension": ".py",
   "mimetype": "text/x-python",
   "name": "python",
   "nbconvert_exporter": "python",
   "pygments_lexer": "ipython2",
   "version": "2.7.6"
  }
 },
 "nbformat": 4,
 "nbformat_minor": 0
}