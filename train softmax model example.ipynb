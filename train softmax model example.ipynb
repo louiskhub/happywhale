{
 "cells": [
  {
   "cell_type": "markdown",
   "source": [
    "This is an example pipeline to train a softmax model on to the 30 species"
   ],
   "metadata": {
    "collapsed": false,
    "pycharm": {
     "name": "#%% md\n"
    }
   }
  },
  {
   "cell_type": "code",
   "execution_count": null,
   "metadata": {
    "collapsed": true
   },
   "outputs": [],
   "source": [
    "from src import ds_generator\n",
    "import tensorflow as tf\n",
    "import util\n",
    "import datetime\n",
    "import os"
   ]
  },
  {
   "cell_type": "code",
   "execution_count": null,
   "outputs": [],
   "source": [
    "# import data\n",
    "train_ds, val_ds = ds_generator.DS_Generator().generate_species_data(util.TRAIN_SPECIES_DF,\n",
    "                                                                     augment=1,\n",
    "                                                                     batch_size=64,\n",
    "                                                                     seed=util.SPECIES_SEED)"
   ],
   "metadata": {
    "collapsed": false,
    "pycharm": {
     "name": "#%%\n"
    }
   }
  },
  {
   "cell_type": "code",
   "execution_count": null,
   "outputs": [],
   "source": [
    "# build and ccompile a model\n",
    "Input = tf.keras.Input((224,224,3))\n",
    "# Choose some keras application\n",
    "base = tf.keras.applications.inception_v3.InceptionV3(\n",
    "    include_top=False,\n",
    "    weights='imagenet',\n",
    "    input_tensor=Input,\n",
    "    input_shape=None,\n",
    "    pooling=\"max\",\n",
    "    classifier_activation='softmax'\n",
    ")\n",
    "head = tf.keras.layers.Dense(util.NUMBER_OF_SPECIES,activation=\"softmax\",)(base.output)\n",
    "model = tf.keras.Model(inputs=Input, outputs=head,name=\"SomeNiceName\")\n",
    "model.compile(optimizer=tf.keras.optimizers.Adam(0.001),loss=\"categorical_crossentropy\",metrics=[\"acc\"])"
   ],
   "metadata": {
    "collapsed": false,
    "pycharm": {
     "name": "#%%\n"
    }
   }
  },
  {
   "cell_type": "code",
   "execution_count": null,
   "outputs": [],
   "source": [
    "# This part is to create for the logs + model checkpoints callbacks\n",
    "\n",
    "if model.name not in os.listdir(util.SAVING_PATH):\n",
    "    os.makedirs(util.SAVING_PATH+model.name)\n",
    "    os.makedirs(util.SAVING_PATH+model.name+\"/logs\")\n",
    "    os.makedirs(util.SAVING_PATH+model.name+\"/saves\")\n",
    "\n",
    "# timestamp for logging\n",
    "time_stamp = datetime.datetime.now().strftime(\"%Y%m%d-%H%M%S\")\n",
    "# paths\n",
    "log_dir = util.SAVING_PATH+model.name+\"/logs/\" +time_stamp\n",
    "checkpoint_path = util.SAVING_PATH +model.name+\"/saves/\" +time_stamp +\"/cp-{epoch:04d}.ckpt\"\n",
    "\n",
    "# callback for logs\n",
    "tensorboard_callback = tf.keras.callbacks.TensorBoard(log_dir=log_dir, histogram_freq=1)\n",
    "\n",
    "# callback model checkpoints\n",
    "cp_callback = tf.keras.callbacks.ModelCheckpoint(\n",
    "    filepath=checkpoint_path,\n",
    "    verbose=1,\n",
    "    save_weights_only=True)"
   ],
   "metadata": {
    "collapsed": false,
    "pycharm": {
     "name": "#%%\n"
    }
   }
  },
  {
   "cell_type": "code",
   "execution_count": null,
   "outputs": [],
   "source": [
    "# fit model\n",
    "model.fit(\n",
    "train_ds,\n",
    "epochs=35,\n",
    "validation_data=val_ds,\n",
    "callbacks=[cp_callback,tensorboard_callback])"
   ],
   "metadata": {
    "collapsed": false,
    "pycharm": {
     "name": "#%%\n"
    }
   }
  }
 ],
 "metadata": {
  "kernelspec": {
   "display_name": "Python 3",
   "language": "python",
   "name": "python3"
  },
  "language_info": {
   "codemirror_mode": {
    "name": "ipython",
    "version": 2
   },
   "file_extension": ".py",
   "mimetype": "text/x-python",
   "name": "python",
   "nbconvert_exporter": "python",
   "pygments_lexer": "ipython2",
   "version": "2.7.6"
  }
 },
 "nbformat": 4,
 "nbformat_minor": 0
}