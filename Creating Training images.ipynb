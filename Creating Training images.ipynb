{
 "cells": [
  {
   "cell_type": "code",
   "execution_count": null,
   "id": "6e9bf993",
   "metadata": {},
   "outputs": [],
   "source": [
    "!pip install "
   ]
  },
  {
   "cell_type": "code",
   "execution_count": 1,
   "id": "93267e67",
   "metadata": {},
   "outputs": [],
   "source": [
    "# First let's import our libraries\n",
    "import pandas as pd\n",
    "import numpy as np\n",
    "from util import  PATH_FOR_OUR_TRAINING_DATA, TARGET_SHAPE # from the utils script we save the file path of our Kaggle Data\n",
    "import tensorflow as tf\n",
    "\n",
    "\n",
    "df = pd.read_csv(PATH_FOR_OUR_TRAINING_DATA+\"/data.csv\",index_col=0)\n",
    "\n",
    "image_paths =df[\"image\"].values"
   ]
  }
 ],
 "metadata": {
  "kernelspec": {
   "display_name": "gpu",
   "language": "python",
   "name": "gpu"
  },
  "language_info": {
   "codemirror_mode": {
    "name": "ipython",
    "version": 3
   },
   "file_extension": ".py",
   "mimetype": "text/x-python",
   "name": "python",
   "nbconvert_exporter": "python",
   "pygments_lexer": "ipython3",
   "version": "3.9.7"
  }
 },
 "nbformat": 4,
 "nbformat_minor": 5
}
