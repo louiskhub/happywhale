{
 "cells": [
  {
   "cell_type": "markdown",
   "id": "55c18b64",
   "metadata": {},
   "source": [
    "# Visualize Kaggle Data & Prepare our Training Dataset\n",
    "\n",
    "What we want to do in this notebook is:\n",
    "\n",
    "1. First inspect the data\n",
    "2. Choose which want we prepare for Training\n",
    "3. Create our Training Image Folder"
   ]
  },
  {
   "cell_type": "code",
   "execution_count": 1,
   "id": "0fecbce5",
   "metadata": {},
   "outputs": [],
   "source": [
    "# First let's import our libraries\n",
    "import pandas as pd\n",
    "import numpy as np\n",
    "import seaborn as sns\n",
    "import os\n",
    "from util import IMG_FOLDER, IMG_CSV, UPPER_LIMIT_OF_IMAGES, give_nice_percentage, PATH_FOR_OUR_TRAINING_DATA # from the utils script we save the file path of our Kaggle Data"
   ]
  },
  {
   "cell_type": "markdown",
   "id": "897d4b03",
   "metadata": {},
   "source": [
    "## 1. Inspection of Data"
   ]
  },
  {
   "cell_type": "code",
   "execution_count": 2,
   "id": "4a8cc19f",
   "metadata": {},
   "outputs": [],
   "source": [
    "train_df = IMG_CSV # get our data csv from the kaggle data\n",
    "ids, respective_counts = np.unique(train_df[\"individual_id\"].values,return_counts=True)"
   ]
  },
  {
   "cell_type": "code",
   "execution_count": 3,
   "id": "fe724d28",
   "metadata": {
    "scrolled": true
   },
   "outputs": [
    {
     "data": {
      "text/plain": [
       "image            False\n",
       "species          False\n",
       "individual_id    False\n",
       "dtype: bool"
      ]
     },
     "execution_count": 3,
     "metadata": {},
     "output_type": "execute_result"
    }
   ],
   "source": [
    "train_df.isnull().any()\n",
    "\n",
    "# We can see our dataset is clean"
   ]
  },
  {
   "cell_type": "code",
   "execution_count": 4,
   "id": "6f25edf4",
   "metadata": {},
   "outputs": [
    {
     "data": {
      "text/plain": [
       "{'jpg'}"
      ]
     },
     "execution_count": 4,
     "metadata": {},
     "output_type": "execute_result"
    }
   ],
   "source": [
    "find_ending = np.vectorize(lambda x : x[x.find(\".\")+1:])\n",
    "set(find_ending(train_df[\"image\"].values))\n",
    "\n",
    "# And we only have jpgs"
   ]
  },
  {
   "cell_type": "markdown",
   "id": "693d11b9",
   "metadata": {},
   "source": [
    "### Plotting of individual counts"
   ]
  },
  {
   "cell_type": "code",
   "execution_count": 5,
   "id": "970743ff",
   "metadata": {
    "scrolled": true
   },
   "outputs": [
    {
     "data": {
      "image/png": "[encoded data removed]",
      "text/plain": [
       "<Figure size 432x288 with 1 Axes>"
      ]
     },
     "metadata": {},
     "output_type": "display_data"
    }
   ],
   "source": [
    "sns.set_theme(style=\"whitegrid\")\n",
    "ax = sns.violinplot(x=respective_counts)"
   ]
  },
  {
   "cell_type": "markdown",
   "id": "8cb94ea4",
   "metadata": {},
   "source": [
    "Wow! That's seems heavily biased towards less pictures per animal, so let us have a look at the lower counts"
   ]
  },
  {
   "cell_type": "code",
   "execution_count": 6,
   "id": "c2f45572",
   "metadata": {
    "scrolled": true
   },
   "outputs": [
    {
     "data": {
      "image/png": "[encoded data removed]",
      "text/plain": [
       "<Figure size 432x288 with 1 Axes>"
      ]
     },
     "metadata": {},
     "output_type": "display_data"
    }
   ],
   "source": [
    "sns.set_theme(style=\"whitegrid\")\n",
    "ax = sns.violinplot(x=respective_counts[respective_counts<50])"
   ]
  },
  {
   "cell_type": "markdown",
   "id": "4b584df0",
   "metadata": {},
   "source": [
    "Still heavily biased to the lower counts so let's go lower!"
   ]
  },
  {
   "cell_type": "code",
   "execution_count": 7,
   "id": "c061971c",
   "metadata": {
    "scrolled": true
   },
   "outputs": [
    {
     "name": "stdout",
     "output_type": "stream",
     "text": [
      "We have 9258 individuals with only one image.\n",
      "9258 individuals corresponds to 59% of all individuals.\n",
      "They make out 18% of the dataset\n"
     ]
    },
    {
     "data": {
      "image/png": "[encoded data removed]",
      "text/plain": [
       "<Figure size 432x288 with 1 Axes>"
      ]
     },
     "metadata": {},
     "output_type": "display_data"
    }
   ],
   "source": [
    "ax = sns.histplot(data=respective_counts[respective_counts<6])\n",
    "number_of_indiviuals_with_one_image = (respective_counts ==1).sum()\n",
    "percentage_of_indiviuals_with_one_image =  give_nice_percentage(number_of_indiviuals_with_one_image,len(respective_counts))\n",
    "their_amount_of_images = respective_counts[respective_counts ==1].sum()\n",
    "percentage_data = give_nice_percentage(their_amount_of_images,len(train_df))\n",
    "\n",
    "print(f\"\"\"We have {number_of_indiviuals_with_one_image} individuals with only one image.\n",
    "{number_of_indiviuals_with_one_image} individuals corresponds to {percentage_of_indiviuals_with_one_image }% of all individuals.\n",
    "They make out {percentage_data}% of the dataset\"\"\")"
   ]
  },
  {
   "cell_type": "markdown",
   "id": "98d763ef",
   "metadata": {},
   "source": [
    "How we very unfortunately can see, the most individuals have only a single picture in the training data.\n",
    "\n",
    "On the other side of the spectrum we also have some individuals with alot image: "
   ]
  },
  {
   "cell_type": "code",
   "execution_count": 8,
   "id": "85db75e7",
   "metadata": {},
   "outputs": [
    {
     "name": "stdout",
     "output_type": "stream",
     "text": [
      "We have 795 individuals with more then 10 images.\n",
      "795 individuals corresponds to 5% of all individuals.\n",
      "They make out 47% of the dataset\n"
     ]
    }
   ],
   "source": [
    "number_of_animals_above_limit = (respective_counts > UPPER_LIMIT_OF_IMAGES).sum()\n",
    "percentage_of_animals_above_limit = give_nice_percentage(number_of_animals_above_limit,len(respective_counts))\n",
    "their_amount_of_images = respective_counts[respective_counts > UPPER_LIMIT_OF_IMAGES].sum()\n",
    "percentage_data = give_nice_percentage(their_amount_of_images,len(train_df))\n",
    "\n",
    "print(f\"\"\"We have {number_of_animals_above_limit} individuals with more then {UPPER_LIMIT_OF_IMAGES} images.\n",
    "{number_of_animals_above_limit} individuals corresponds to {percentage_of_animals_above_limit}% of all individuals.\n",
    "They make out {percentage_data}% of the dataset\"\"\")"
   ]
  },
  {
   "cell_type": "markdown",
   "id": "208fbb10",
   "metadata": {},
   "source": [
    "## 2. Choosing our training data\n",
    "\n",
    "Since triplet training requires atleast 2 positve pictures per individual, we have to discard the individuals with only one picture for training. We only can hope that our model later is generalisis good enough to later theoretically also project them into the latent space in such a way, that they also can be used for classifying. "
   ]
  },
  {
   "cell_type": "code",
   "execution_count": 9,
   "id": "a703a433",
   "metadata": {},
   "outputs": [
    {
     "name": "stdout",
     "output_type": "stream",
     "text": [
      "We throw away 9258 individuals and have 6329 left\n"
     ]
    },
    {
     "data": {
      "text/html": [
       "<div>\n",
       "<style scoped>\n",
       "    .dataframe tbody tr th:only-of-type {\n",
       "        vertical-align: middle;\n",
       "    }\n",
       "\n",
       "    .dataframe tbody tr th {\n",
       "        vertical-align: top;\n",
       "    }\n",
       "\n",
       "    .dataframe thead th {\n",
       "        text-align: right;\n",
       "    }\n",
       "</style>\n",
       "<table border=\"1\" class=\"dataframe\">\n",
       "  <thead>\n",
       "    <tr style=\"text-align: right;\">\n",
       "      <th></th>\n",
       "      <th>image</th>\n",
       "      <th>species</th>\n",
       "      <th>individual_id</th>\n",
       "    </tr>\n",
       "  </thead>\n",
       "  <tbody>\n",
       "    <tr>\n",
       "      <th>0</th>\n",
       "      <td>000562241d384d.jpg</td>\n",
       "      <td>humpback_whale</td>\n",
       "      <td>1a71fbb72250</td>\n",
       "    </tr>\n",
       "    <tr>\n",
       "      <th>1</th>\n",
       "      <td>0007c33415ce37.jpg</td>\n",
       "      <td>false_killer_whale</td>\n",
       "      <td>60008f293a2b</td>\n",
       "    </tr>\n",
       "    <tr>\n",
       "      <th>2</th>\n",
       "      <td>0007d9bca26a99.jpg</td>\n",
       "      <td>bottlenose_dolphin</td>\n",
       "      <td>4b00fe572063</td>\n",
       "    </tr>\n",
       "    <tr>\n",
       "      <th>3</th>\n",
       "      <td>00087baf5cef7a.jpg</td>\n",
       "      <td>humpback_whale</td>\n",
       "      <td>8e5253662392</td>\n",
       "    </tr>\n",
       "    <tr>\n",
       "      <th>4</th>\n",
       "      <td>000a8f2d5c316a.jpg</td>\n",
       "      <td>bottlenose_dolphin</td>\n",
       "      <td>b9907151f66e</td>\n",
       "    </tr>\n",
       "  </tbody>\n",
       "</table>\n",
       "</div>"
      ],
      "text/plain": [
       "                image             species individual_id\n",
       "0  000562241d384d.jpg      humpback_whale  1a71fbb72250\n",
       "1  0007c33415ce37.jpg  false_killer_whale  60008f293a2b\n",
       "2  0007d9bca26a99.jpg  bottlenose_dolphin  4b00fe572063\n",
       "3  00087baf5cef7a.jpg      humpback_whale  8e5253662392\n",
       "4  000a8f2d5c316a.jpg  bottlenose_dolphin  b9907151f66e"
      ]
     },
     "execution_count": 9,
     "metadata": {},
     "output_type": "execute_result"
    }
   ],
   "source": [
    "# First we throw away all the whales/dolphines with less then 2 images\n",
    "print(f\"We throw away {number_of_indiviuals_with_one_image } individuals and have {np.sum(respective_counts>1)} left\")\n",
    "\n",
    "ids = ids[respective_counts>1] # boolean index the ids \n",
    "\n",
    "respective_counts= respective_counts[respective_counts>1] # and counts for later\n",
    "\n",
    "filter_function = np.vectorize(lambda x: x in ids) # our filter function\n",
    "\n",
    "train_df = train_df.iloc[filter_function(train_df[\"individual_id\"])] # filter df\n",
    "\n",
    "train_df.index = range(len(train_df)) # reindex\n",
    "train_df.head()"
   ]
  },
  {
   "cell_type": "markdown",
   "id": "c56a1384",
   "metadata": {},
   "source": [
    "On the other site we have already a tiny amount of individuals making out of almost have of all images before disregarding 59% of all indiviuals. Hence our dataset is heavily out of balance. Threrefore we will set an upper limit for maximum images per individual. \n",
    "\n",
    "For every indivual of our class with too many images, we deem it sensible to our upper limit images out of their images."
   ]
  },
  {
   "cell_type": "code",
   "execution_count": 10,
   "id": "c7e7a04a",
   "metadata": {
    "scrolled": true
   },
   "outputs": [
    {
     "name": "stdout",
     "output_type": "stream",
     "text": [
      "Our current Upper Maximum is specified in utils.py is: 10\n"
     ]
    }
   ],
   "source": [
    "print(f\"Our current Upper Maximum is specified in utils.py is: {UPPER_LIMIT_OF_IMAGES}\")"
   ]
  },
  {
   "cell_type": "code",
   "execution_count": 11,
   "id": "cb36bcd6",
   "metadata": {},
   "outputs": [
    {
     "data": {
      "text/html": [
       "<div>\n",
       "<style scoped>\n",
       "    .dataframe tbody tr th:only-of-type {\n",
       "        vertical-align: middle;\n",
       "    }\n",
       "\n",
       "    .dataframe tbody tr th {\n",
       "        vertical-align: top;\n",
       "    }\n",
       "\n",
       "    .dataframe thead th {\n",
       "        text-align: right;\n",
       "    }\n",
       "</style>\n",
       "<table border=\"1\" class=\"dataframe\">\n",
       "  <thead>\n",
       "    <tr style=\"text-align: right;\">\n",
       "      <th></th>\n",
       "      <th>image</th>\n",
       "      <th>species</th>\n",
       "      <th>individual_id</th>\n",
       "    </tr>\n",
       "  </thead>\n",
       "  <tbody>\n",
       "    <tr>\n",
       "      <th>0</th>\n",
       "      <td>000562241d384d.jpg</td>\n",
       "      <td>humpback_whale</td>\n",
       "      <td>1a71fbb72250</td>\n",
       "    </tr>\n",
       "    <tr>\n",
       "      <th>1</th>\n",
       "      <td>00087baf5cef7a.jpg</td>\n",
       "      <td>humpback_whale</td>\n",
       "      <td>8e5253662392</td>\n",
       "    </tr>\n",
       "    <tr>\n",
       "      <th>2</th>\n",
       "      <td>000be9acf46619.jpg</td>\n",
       "      <td>beluga</td>\n",
       "      <td>afb9b3978217</td>\n",
       "    </tr>\n",
       "    <tr>\n",
       "      <th>3</th>\n",
       "      <td>000bef247c7a42.jpg</td>\n",
       "      <td>humpback_whale</td>\n",
       "      <td>444d8894ccc8</td>\n",
       "    </tr>\n",
       "    <tr>\n",
       "      <th>4</th>\n",
       "      <td>000c3d63069748.jpg</td>\n",
       "      <td>beluga</td>\n",
       "      <td>df94b15285b9</td>\n",
       "    </tr>\n",
       "  </tbody>\n",
       "</table>\n",
       "</div>"
      ],
      "text/plain": [
       "                image         species individual_id\n",
       "0  000562241d384d.jpg  humpback_whale  1a71fbb72250\n",
       "1  00087baf5cef7a.jpg  humpback_whale  8e5253662392\n",
       "2  000be9acf46619.jpg          beluga  afb9b3978217\n",
       "3  000bef247c7a42.jpg  humpback_whale  444d8894ccc8\n",
       "4  000c3d63069748.jpg          beluga  df94b15285b9"
      ]
     },
     "execution_count": 11,
     "metadata": {},
     "output_type": "execute_result"
    }
   ],
   "source": [
    "boolean_mask = np.zeros(len(train_df),dtype=bool)\n",
    "\n",
    "for animal,count in zip(ids,respective_counts):\n",
    "    index = train_df[train_df[\"individual_id\"]==animal].index.tolist()\n",
    "    \n",
    "    if count > UPPER_LIMIT_OF_IMAGES:\n",
    "        index = np.random.choice(index,UPPER_LIMIT_OF_IMAGES,replace=False)\n",
    "        boolean_mask[index]=True\n",
    "        \n",
    "    else:\n",
    "        boolean_mask[index]=True\n",
    "\n",
    "train_df = train_df.iloc[boolean_mask]\n",
    "train_df.index = range(len(train_df)) # reindex\n",
    "train_df.head()"
   ]
  },
  {
   "cell_type": "code",
   "execution_count": 12,
   "id": "9b2a1d13",
   "metadata": {
    "scrolled": true
   },
   "outputs": [
    {
     "name": "stdout",
     "output_type": "stream",
     "text": [
      "We have now already recuced our dataset by 50%\n"
     ]
    }
   ],
   "source": [
    "print(f\"We have now already recuced our dataset by {give_nice_percentage(len(train_df),len(IMG_CSV))}%\")"
   ]
  },
  {
   "cell_type": "markdown",
   "id": "83916271",
   "metadata": {},
   "source": [
    "## 3. Create our Training Images"
   ]
  },
  {
   "cell_type": "code",
   "execution_count": 13,
   "id": "2bb71e54",
   "metadata": {},
   "outputs": [
    {
     "data": {
      "text/html": [
       "<div>\n",
       "<style scoped>\n",
       "    .dataframe tbody tr th:only-of-type {\n",
       "        vertical-align: middle;\n",
       "    }\n",
       "\n",
       "    .dataframe tbody tr th {\n",
       "        vertical-align: top;\n",
       "    }\n",
       "\n",
       "    .dataframe thead th {\n",
       "        text-align: right;\n",
       "    }\n",
       "</style>\n",
       "<table border=\"1\" class=\"dataframe\">\n",
       "  <thead>\n",
       "    <tr style=\"text-align: right;\">\n",
       "      <th></th>\n",
       "      <th>image</th>\n",
       "      <th>species</th>\n",
       "      <th>individual_id</th>\n",
       "      <th>count</th>\n",
       "      <th>label</th>\n",
       "    </tr>\n",
       "  </thead>\n",
       "  <tbody>\n",
       "    <tr>\n",
       "      <th>0</th>\n",
       "      <td>000562241d384d.jpg</td>\n",
       "      <td>humpback_whale</td>\n",
       "      <td>1a71fbb72250</td>\n",
       "      <td>2</td>\n",
       "      <td>673</td>\n",
       "    </tr>\n",
       "    <tr>\n",
       "      <th>1</th>\n",
       "      <td>00087baf5cef7a.jpg</td>\n",
       "      <td>humpback_whale</td>\n",
       "      <td>8e5253662392</td>\n",
       "      <td>10</td>\n",
       "      <td>3570</td>\n",
       "    </tr>\n",
       "    <tr>\n",
       "      <th>2</th>\n",
       "      <td>000be9acf46619.jpg</td>\n",
       "      <td>beluga</td>\n",
       "      <td>afb9b3978217</td>\n",
       "      <td>10</td>\n",
       "      <td>4386</td>\n",
       "    </tr>\n",
       "    <tr>\n",
       "      <th>3</th>\n",
       "      <td>000bef247c7a42.jpg</td>\n",
       "      <td>humpback_whale</td>\n",
       "      <td>444d8894ccc8</td>\n",
       "      <td>4</td>\n",
       "      <td>1670</td>\n",
       "    </tr>\n",
       "    <tr>\n",
       "      <th>4</th>\n",
       "      <td>000c3d63069748.jpg</td>\n",
       "      <td>beluga</td>\n",
       "      <td>df94b15285b9</td>\n",
       "      <td>10</td>\n",
       "      <td>5574</td>\n",
       "    </tr>\n",
       "  </tbody>\n",
       "</table>\n",
       "</div>"
      ],
      "text/plain": [
       "                image         species individual_id  count  label\n",
       "0  000562241d384d.jpg  humpback_whale  1a71fbb72250      2    673\n",
       "1  00087baf5cef7a.jpg  humpback_whale  8e5253662392     10   3570\n",
       "2  000be9acf46619.jpg          beluga  afb9b3978217     10   4386\n",
       "3  000bef247c7a42.jpg  humpback_whale  444d8894ccc8      4   1670\n",
       "4  000c3d63069748.jpg          beluga  df94b15285b9     10   5574"
      ]
     },
     "execution_count": 13,
     "metadata": {},
     "output_type": "execute_result"
    }
   ],
   "source": [
    "# First let's create a folder for our training data\n",
    "if PATH_FOR_OUR_TRAINING_DATA[3:] not in os.listdir(\"../\"):\n",
    "    os.makedirs(PATH_FOR_OUR_TRAINING_DATA)\n",
    "\n",
    "train_df['count'] = train_df.groupby('individual_id')['individual_id'].transform('count') # introduce counts for later\n",
    "\n",
    "# For later we create int labels\n",
    "ids= np.unique(train_df[\"individual_id\"].values)\n",
    "give_int_id = np.vectorize(lambda id_of_animal: int(np.where(ids==id_of_animal)[0]))\n",
    "train_df[\"label\"] = give_int_id(train_df[\"individual_id\"])\n",
    "\n",
    "train_df.head()"
   ]
  },
  {
   "cell_type": "code",
   "execution_count": 14,
   "id": "4d6125d0",
   "metadata": {},
   "outputs": [],
   "source": [
    "train_df.to_csv(PATH_FOR_OUR_TRAINING_DATA+\"/data.csv\") # Write our data to csv"
   ]
  },
  {
   "cell_type": "markdown",
   "id": "6168510e",
   "metadata": {},
   "source": [
    "### Creating Training Images\n",
    "\n",
    "For this we use the prespecified function create_our_training_data from Extractor.py"
   ]
  },
  {
   "cell_type": "code",
   "execution_count": 15,
   "id": "0faa733d",
   "metadata": {},
   "outputs": [
    {
     "name": "stderr",
     "output_type": "stream",
     "text": [
      "100%|██████████| 25544/25544 [27:15<00:00, 15.62it/s]\n"
     ]
    }
   ],
   "source": [
    "from util import  PATH_FOR_OUR_TRAINING_DATA, TARGET_SHAPE,UPPER_LIMIT_OF_IMAGES \n",
    "from Extractor import create_our_training_data\n",
    "\n",
    "create_our_training_data(IMG_FOLDER,PATH_FOR_OUR_TRAINING_DATA,TARGET_SHAPE)"
   ]
  }
 ],
 "metadata": {
  "kernelspec": {
   "display_name": "gpu",
   "language": "python",
   "name": "gpu"
  },
  "language_info": {
   "codemirror_mode": {
    "name": "ipython",
    "version": 3
   },
   "file_extension": ".py",
   "mimetype": "text/x-python",
   "name": "python",
   "nbconvert_exporter": "python",
   "pygments_lexer": "ipython3",
   "version": "3.9.7"
  }
 },
 "nbformat": 4,
 "nbformat_minor": 5
}
