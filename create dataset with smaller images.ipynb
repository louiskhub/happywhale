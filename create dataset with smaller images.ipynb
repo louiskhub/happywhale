{
 "cells": [
  {
   "cell_type": "markdown",
   "source": [
    "This notebook is to crop all the images to a certain size to decrease the training data drastically"
   ],
   "metadata": {
    "collapsed": false,
    "pycharm": {
     "name": "#%% md\n"
    }
   }
  },
  {
   "cell_type": "code",
   "execution_count": null,
   "id": "90e66734",
   "metadata": {},
   "outputs": [],
   "source": [
    "import tensorflow_datasets as tfds\n",
    "import util\n",
    "import tqdm \n",
    "import tensorflow as tf\n",
    "\n",
    "df = util.TRAIN_SPECIES_DF\n",
    "\n",
    "# Path for your resized images\n",
    "write_path = \"../some_path/\"\n",
    "\n",
    "ds = tf.data.Dataset.from_tensor_slices(df[\"image\"])\n",
    "\n",
    "# reads images and makes them smaller\n",
    "def mapping_func(path):\n",
    "    img = tf.io.read_file( \"../KaggleData/train_images/\" + path)\n",
    "    img = tf.io.decode_jpeg(img, channels=3)\n",
    "    img = tf.image.resize(img,util.TARGET_SHAPE)\n",
    "    return (img,path)\n",
    "\n",
    "ds = ds.map(mapping_func)\n",
    "\n",
    "# save every image to the path\n",
    "for img,path in tqdm.tqdm(tfds.as_numpy(ds)):\n",
    "    tf.keras.utils.save_img(write_path + path.decode(\"utf-8\"), img)"
   ]
  },
  {
   "cell_type": "raw",
   "source": [],
   "metadata": {
    "collapsed": false,
    "pycharm": {
     "name": "#%% raw\n"
    }
   }
  }
 ],
 "metadata": {
  "kernelspec": {
   "display_name": "whale",
   "language": "python",
   "name": "whale"
  },
  "language_info": {
   "codemirror_mode": {
    "name": "ipython",
    "version": 3
   },
   "file_extension": ".py",
   "mimetype": "text/x-python",
   "name": "python",
   "nbconvert_exporter": "python",
   "pygments_lexer": "ipython3",
   "version": "3.9.7"
  }
 },
 "nbformat": 4,
 "nbformat_minor": 5
}