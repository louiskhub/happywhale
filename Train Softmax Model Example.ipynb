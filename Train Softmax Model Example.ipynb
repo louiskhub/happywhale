{
 "cells": [
  {
   "cell_type": "code",
   "execution_count": null,
   "metadata": {
    "collapsed": true
   },
   "outputs": [],
   "source": [
    "from src import ds_Generator\n",
    "import tensorflow as tf\n",
    "from util import TRAIN_SPECIES_DF,SPECIES_SEED ,NUMBER_OF_SPECIES, SAVING_PATH\n",
    "import datetime\n",
    "import os"
   ]
  },
  {
   "cell_type": "code",
   "execution_count": null,
   "outputs": [],
   "source": [
    "train_ds, val_ds = DS_Generator.DS_Generator().generate_species_data(TRAIN_SPECIES_DF,augment=1,batch_size=64,seed=SPECIES_SEED)"
   ],
   "metadata": {
    "collapsed": false,
    "pycharm": {
     "name": "#%%\n"
    }
   }
  },
  {
   "cell_type": "code",
   "execution_count": null,
   "outputs": [],
   "source": [
    "Input = tf.keras.Input((224,224,3))\n",
    "# Choose some keras application\n",
    "base = tf.keras.applications.inception_v3.InceptionV3(\n",
    "    include_top=False,\n",
    "    weights='imagenet',\n",
    "    input_tensor=Input,\n",
    "    input_shape=None,\n",
    "    pooling=\"max\",\n",
    "    classifier_activation='softmax'\n",
    ")\n",
    "head = tf.keras.layers.Dense(NUMBER_OF_SPECIES,activation=\"softmax\",)(base.output)\n",
    "model = tf.keras.Model(inputs=Input, outputs=head,name=\"SomeNiceName\")\n",
    "model.compile(optimizer=tf.keras.optimizers.Adam(0.001),loss=\"categorical_crossentropy\",metrics=[\"acc\"])"
   ],
   "metadata": {
    "collapsed": false,
    "pycharm": {
     "name": "#%%\n"
    }
   }
  },
  {
   "cell_type": "code",
   "execution_count": null,
   "outputs": [],
   "source": [
    "# create folders\n",
    "if model.name not in os.listdir(SAVING_PATH):\n",
    "    os.makedirs(SAVING_PATH+model.name)\n",
    "    os.makedirs(SAVING_PATH+model.name+\"/logs\")\n",
    "    os.makedirs(SAVING_PATH+model.name+\"/saves\")\n",
    "\n",
    "# timestamp for logging\n",
    "time_stamp = datetime.datetime.now().strftime(\"%Y%m%d-%H%M%S\")\n",
    "\n",
    "log_dir = SAVING_PATH+model.name+\"/logs/\" +time_stamp\n",
    "\n",
    "# callback or performance\n",
    "tensorboard_callback = tf.keras.callbacks.TensorBoard(log_dir=log_dir, histogram_freq=1)\n",
    "\n",
    "checkpoint_path = SAVING_PATH +model.name+\"/saves/\" +time_stamp +\"/cp-{epoch:04d}.ckpt\"\n",
    "\n",
    "# callback or weights saving\n",
    "cp_callback = tf.keras.callbacks.ModelCheckpoint(\n",
    "    filepath=checkpoint_path,\n",
    "    verbose=1,\n",
    "    save_weights_only=True)\n",
    "\n",
    "model.fit(\n",
    "train_ds,\n",
    "epochs=35,\n",
    "validation_data=val_ds,\n",
    "callbacks=[cp_callback,tensorboard_callback])"
   ],
   "metadata": {
    "collapsed": false,
    "pycharm": {
     "name": "#%%\n"
    }
   }
  }
 ],
 "metadata": {
  "kernelspec": {
   "display_name": "Python 3",
   "language": "python",
   "name": "python3"
  },
  "language_info": {
   "codemirror_mode": {
    "name": "ipython",
    "version": 2
   },
   "file_extension": ".py",
   "mimetype": "text/x-python",
   "name": "python",
   "nbconvert_exporter": "python",
   "pygments_lexer": "ipython2",
   "version": "2.7.6"
  }
 },
 "nbformat": 4,
 "nbformat_minor": 0
}