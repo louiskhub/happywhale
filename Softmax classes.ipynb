{
 "cells": [
  {
   "cell_type": "code",
   "execution_count": 1,
   "id": "165566a0",
   "metadata": {},
   "outputs": [
    {
     "name": "stdout",
     "output_type": "stream",
     "text": [
      "We threw away the datapoint with index 30203 \n"
     ]
    }
   ],
   "source": [
    "from util import PATH_FOR_OUR_TRAINING_DATA, TARGET_SHAPE\n",
    "import pandas as pd\n",
    "from DS_Generator import DS_Generator\n",
    "import tensorflow as tf\n",
    "import datetime\n",
    "import os\n",
    "\n",
    "df = pd.read_csv(PATH_FOR_OUR_TRAINING_DATA + \"/data.csv\", index_col=0)\n",
    "\n",
    "train_ds, val_ds = DS_Generator().generate(df,0.1,1,batch_size=32,one_hot_encode=True)"
   ]
  },
  {
   "cell_type": "code",
   "execution_count": 2,
   "id": "3320820d",
   "metadata": {
    "scrolled": true
   },
   "outputs": [],
   "source": [
    "%load_ext tensorboard"
   ]
  },
  {
   "cell_type": "markdown",
   "id": "81f0e888",
   "metadata": {},
   "source": [
    "## Model"
   ]
  },
  {
   "cell_type": "code",
   "execution_count": 3,
   "id": "9163cd53",
   "metadata": {},
   "outputs": [],
   "source": [
    "num_classes = len({i for i in df[\"species_label\"]})\n",
    "\n",
    "base_cnn = tf.keras.applications.resnet.ResNet50(\n",
    "    weights=None, input_shape=TARGET_SHAPE + (1,), include_top=False\n",
    ")\n",
    "\n",
    "flatten = tf.keras.layers.Flatten()(base_cnn.output)\n",
    "dense1 = tf.keras.layers.Dense(512, activation=\"relu\")(flatten)\n",
    "dense1 = tf.keras.layers.BatchNormalization()(dense1)\n",
    "dense2 = tf.keras.layers.Dense(256, activation=\"relu\")(dense1)\n",
    "dense2 = tf.keras.layers.BatchNormalization()(dense2)\n",
    "output = tf.keras.layers.Dense(num_classes,activation=\"softmax\")(dense2)\n",
    "\n",
    "model = tf.keras.Model(base_cnn.input, output, name=\"Resnet50Softmax\")\n",
    "model.compile(loss='categorical_crossentropy',optimizer='adam',metrics=['accuracy'])"
   ]
  },
  {
   "cell_type": "markdown",
   "id": "a9edced6",
   "metadata": {},
   "source": [
    "## Callbacks - tensorboard + saving model"
   ]
  },
  {
   "cell_type": "code",
   "execution_count": 4,
   "id": "f30c6f69",
   "metadata": {},
   "outputs": [],
   "source": [
    "model_dir = \"training_information/\"+model.name\n",
    "\n",
    "if model.name not in os.listdir(\"training_information/\"):\n",
    "    os.makedirs(model_dir)\n",
    "    # then also create log + weights folders\n",
    "\n",
    "if not \"weights\" in os.listdir(model_dir):\n",
    "    os.makedirs(model_dir + \"/weights\")\n",
    "\n",
    "if  not \"logs\" in os.listdir(model_dir):\n",
    "    os.makedirs(model_dir + \"/logs\")\n",
    "\n",
    "time_stamp = datetime.datetime.now().strftime(\"%Y%m%d-%H%M%S\")\n",
    "\n",
    "log_path = model_dir + \"/logs/\" + time_stamp\n",
    "weights_path = model_dir + \"/weights/\" + time_stamp+ \"-{epoch:04d}.ckpt\"\n",
    "\n",
    "# tensorboard\n",
    "tensorboard_callback = tf.keras.callbacks.TensorBoard(log_dir=log_path, histogram_freq=1)\n",
    "\n",
    "# saving weights\n",
    "cp_callback = tf.keras.callbacks.ModelCheckpoint(filepath=weights_path,\n",
    "                                                 save_weights_only=True,\n",
    "                                                 verbose=1)"
   ]
  },
  {
   "cell_type": "code",
   "execution_count": 6,
   "id": "8fd4aa4a",
   "metadata": {},
   "outputs": [
    {
     "name": "stdout",
     "output_type": "stream",
     "text": [
      "Epoch 1/15\n",
      "1436/1436 [==============================] - ETA: 0s - loss: 1.6389 - accuracy: 0.5333\n",
      "Epoch 1: saving model to training_information/Resnet50Softmax/weights\\20220327-183811-0001.ckpt\n",
      "1436/1436 [==============================] - 645s 443ms/step - loss: 1.6389 - accuracy: 0.5333 - val_loss: 1.3827 - val_accuracy: 0.5781\n",
      "Epoch 2/15\n",
      "1436/1436 [==============================] - ETA: 0s - loss: 1.1012 - accuracy: 0.6666\n",
      "Epoch 2: saving model to training_information/Resnet50Softmax/weights\\20220327-183811-0002.ckpt\n",
      "1436/1436 [==============================] - 653s 454ms/step - loss: 1.1012 - accuracy: 0.6666 - val_loss: 1.0100 - val_accuracy: 0.6912\n",
      "Epoch 3/15\n",
      "1436/1436 [==============================] - ETA: 0s - loss: 0.8786 - accuracy: 0.7287\n",
      "Epoch 3: saving model to training_information/Resnet50Softmax/weights\\20220327-183811-0003.ckpt\n",
      "1436/1436 [==============================] - 637s 443ms/step - loss: 0.8786 - accuracy: 0.7287 - val_loss: 0.9208 - val_accuracy: 0.7143\n",
      "Epoch 4/15\n",
      "1436/1436 [==============================] - ETA: 0s - loss: 0.7591 - accuracy: 0.7634\n",
      "Epoch 4: saving model to training_information/Resnet50Softmax/weights\\20220327-183811-0004.ckpt\n",
      "1436/1436 [==============================] - 651s 453ms/step - loss: 0.7591 - accuracy: 0.7634 - val_loss: 1.0220 - val_accuracy: 0.7031\n",
      "Epoch 5/15\n",
      "1436/1436 [==============================] - ETA: 0s - loss: 0.6133 - accuracy: 0.8077\n",
      "Epoch 5: saving model to training_information/Resnet50Softmax/weights\\20220327-183811-0005.ckpt\n",
      "1436/1436 [==============================] - 635s 442ms/step - loss: 0.6133 - accuracy: 0.8077 - val_loss: 1.0994 - val_accuracy: 0.6833\n",
      "Epoch 6/15\n",
      "1436/1436 [==============================] - ETA: 0s - loss: 0.5340 - accuracy: 0.8287\n",
      "Epoch 6: saving model to training_information/Resnet50Softmax/weights\\20220327-183811-0006.ckpt\n",
      "1436/1436 [==============================] - 646s 449ms/step - loss: 0.5340 - accuracy: 0.8287 - val_loss: 1.0411 - val_accuracy: 0.7029\n",
      "Epoch 7/15\n",
      "1436/1436 [==============================] - ETA: 0s - loss: 0.5310 - accuracy: 0.8310\n",
      "Epoch 7: saving model to training_information/Resnet50Softmax/weights\\20220327-183811-0007.ckpt\n",
      "1436/1436 [==============================] - 646s 449ms/step - loss: 0.5310 - accuracy: 0.8310 - val_loss: 0.8646 - val_accuracy: 0.7633\n",
      "Epoch 8/15\n",
      "1436/1436 [==============================] - ETA: 0s - loss: 0.3345 - accuracy: 0.8912\n",
      "Epoch 8: saving model to training_information/Resnet50Softmax/weights\\20220327-183811-0008.ckpt\n",
      "1436/1436 [==============================] - 629s 437ms/step - loss: 0.3345 - accuracy: 0.8912 - val_loss: 0.8863 - val_accuracy: 0.7772\n",
      "Epoch 9/15\n",
      "1436/1436 [==============================] - ETA: 0s - loss: 0.1907 - accuracy: 0.9380\n",
      "Epoch 9: saving model to training_information/Resnet50Softmax/weights\\20220327-183811-0009.ckpt\n",
      "1436/1436 [==============================] - 629s 437ms/step - loss: 0.1907 - accuracy: 0.9380 - val_loss: 1.0663 - val_accuracy: 0.7584\n",
      "Epoch 10/15\n",
      "1436/1436 [==============================] - ETA: 0s - loss: 0.3733 - accuracy: 0.8791\n",
      "Epoch 10: saving model to training_information/Resnet50Softmax/weights\\20220327-183811-0010.ckpt\n",
      "1436/1436 [==============================] - 630s 438ms/step - loss: 0.3733 - accuracy: 0.8791 - val_loss: 0.8833 - val_accuracy: 0.7780\n",
      "Epoch 11/15\n",
      "1436/1436 [==============================] - ETA: 0s - loss: 0.1133 - accuracy: 0.9637\n",
      "Epoch 11: saving model to training_information/Resnet50Softmax/weights\\20220327-183811-0011.ckpt\n",
      "1436/1436 [==============================] - 628s 437ms/step - loss: 0.1133 - accuracy: 0.9637 - val_loss: 0.9079 - val_accuracy: 0.8011\n",
      "Epoch 12/15\n",
      "1436/1436 [==============================] - ETA: 0s - loss: 0.0819 - accuracy: 0.9736\n",
      "Epoch 12: saving model to training_information/Resnet50Softmax/weights\\20220327-183811-0012.ckpt\n",
      "1436/1436 [==============================] - 628s 436ms/step - loss: 0.0819 - accuracy: 0.9736 - val_loss: 1.4795 - val_accuracy: 0.7535\n",
      "Epoch 13/15\n",
      "1436/1436 [==============================] - ETA: 0s - loss: 0.0899 - accuracy: 0.9701\n",
      "Epoch 13: saving model to training_information/Resnet50Softmax/weights\\20220327-183811-0013.ckpt\n",
      "1436/1436 [==============================] - 628s 436ms/step - loss: 0.0899 - accuracy: 0.9701 - val_loss: 1.2686 - val_accuracy: 0.7725\n",
      "Epoch 14/15\n",
      "1436/1436 [==============================] - ETA: 0s - loss: 0.0828 - accuracy: 0.9715\n",
      "Epoch 14: saving model to training_information/Resnet50Softmax/weights\\20220327-183811-0014.ckpt\n",
      "1436/1436 [==============================] - 629s 437ms/step - loss: 0.0828 - accuracy: 0.9715 - val_loss: 1.0889 - val_accuracy: 0.7878\n",
      "Epoch 15/15\n",
      "1436/1436 [==============================] - ETA: 0s - loss: 0.0730 - accuracy: 0.9749\n",
      "Epoch 15: saving model to training_information/Resnet50Softmax/weights\\20220327-183811-0015.ckpt\n",
      "1436/1436 [==============================] - 631s 439ms/step - loss: 0.0730 - accuracy: 0.9749 - val_loss: 1.1484 - val_accuracy: 0.7878\n"
     ]
    },
    {
     "data": {
      "text/plain": [
       "<keras.callbacks.History at 0x1cadc3c4be0>"
      ]
     },
     "execution_count": 6,
     "metadata": {},
     "output_type": "execute_result"
    }
   ],
   "source": [
    "model.fit(\n",
    "    train_ds,\n",
    "    epochs=15,\n",
    "    validation_data=val_ds,\n",
    "    callbacks=[cp_callback,tensorboard_callback]\n",
    ")"
   ]
  },
  {
   "cell_type": "code",
   "execution_count": 8,
   "id": "57b58632",
   "metadata": {},
   "outputs": [
    {
     "data": {
      "text/plain": [
       "'Resnet50Softmax'"
      ]
     },
     "execution_count": 8,
     "metadata": {},
     "output_type": "execute_result"
    }
   ],
   "source": [
    "model.name"
   ]
  },
  {
   "cell_type": "code",
   "execution_count": 10,
   "id": "d2ab576f",
   "metadata": {
    "scrolled": true
   },
   "outputs": [
    {
     "data": {
      "text/html": [
       "\n",
       "      <iframe id=\"tensorboard-frame-f43b1d871b88a787\" width=\"100%\" height=\"800\" frameborder=\"0\">\n",
       "      </iframe>\n",
       "      <script>\n",
       "        (function() {\n",
       "          const frame = document.getElementById(\"tensorboard-frame-f43b1d871b88a787\");\n",
       "          const url = new URL(\"/\", window.location);\n",
       "          const port = 6006;\n",
       "          if (port) {\n",
       "            url.port = port;\n",
       "          }\n",
       "          frame.src = url;\n",
       "        })();\n",
       "      </script>\n",
       "    "
      ],
      "text/plain": [
       "<IPython.core.display.HTML object>"
      ]
     },
     "metadata": {},
     "output_type": "display_data"
    }
   ],
   "source": [
    "%tensorboard --logdir training_information/Resnet50Softmax/logs/20220327-183811"
   ]
  }
 ],
 "metadata": {
  "kernelspec": {
   "display_name": "whale",
   "language": "python",
   "name": "whale"
  },
  "language_info": {
   "codemirror_mode": {
    "name": "ipython",
    "version": 3
   },
   "file_extension": ".py",
   "mimetype": "text/x-python",
   "name": "python",
   "nbconvert_exporter": "python",
   "pygments_lexer": "ipython3",
   "version": "3.9.7"
  }
 },
 "nbformat": 4,
 "nbformat_minor": 5
}
