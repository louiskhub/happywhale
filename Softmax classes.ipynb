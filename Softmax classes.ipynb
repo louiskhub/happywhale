{
 "cells": [
  {
   "cell_type": "code",
   "execution_count": 1,
   "id": "165566a0",
   "metadata": {},
   "outputs": [
    {
     "name": "stdout",
     "output_type": "stream",
     "text": [
      "We threw away the datapoint with index 44763 \n"
     ]
    }
   ],
   "source": [
    "from util import PATH_FOR_OUR_TRAINING_DATA, TARGET_SHAPE\n",
    "import pandas as pd\n",
    "from DS_Generator import DS_Generator\n",
    "import tensorflow as tf\n",
    "import datetime\n",
    "import os\n",
    "\n",
    "df = pd.read_csv(PATH_FOR_OUR_TRAINING_DATA + \"/data.csv\", index_col=0)\n",
    "\n",
    "train_ds, val_ds = DS_Generator().generate(df,0.1,1,batch_size=32,one_hot_encode=True)"
   ]
  },
  {
   "cell_type": "code",
   "execution_count": 2,
   "id": "3320820d",
   "metadata": {
    "scrolled": true
   },
   "outputs": [],
   "source": [
    "%load_ext tensorboard"
   ]
  },
  {
   "cell_type": "code",
   "execution_count": 3,
   "id": "3b0f36c2",
   "metadata": {},
   "outputs": [],
   "source": [
    "train_ds= train_ds.take(10)"
   ]
  },
  {
   "cell_type": "markdown",
   "id": "81f0e888",
   "metadata": {},
   "source": [
    "## Model"
   ]
  },
  {
   "cell_type": "code",
   "execution_count": 4,
   "id": "9163cd53",
   "metadata": {},
   "outputs": [],
   "source": [
    "num_classes = len({i for i in df[\"species_label\"]})\n",
    "\n",
    "base_cnn = tf.keras.applications.resnet.ResNet50(\n",
    "    weights=None, input_shape=TARGET_SHAPE + (1,), include_top=False\n",
    ")\n",
    "\n",
    "flatten = tf.keras.layers.Flatten()(base_cnn.output)\n",
    "dense1 = tf.keras.layers.Dense(512, activation=\"relu\")(flatten)\n",
    "dense1 = tf.keras.layers.BatchNormalization()(dense1)\n",
    "dense2 = tf.keras.layers.Dense(256, activation=\"relu\")(dense1)\n",
    "dense2 = tf.keras.layers.BatchNormalization()(dense2)\n",
    "output = tf.keras.layers.Dense(num_classes,activation=\"softmax\")(dense2)\n",
    "\n",
    "model = tf.keras.Model(base_cnn.input, output, name=\"Resnet50Softmax\")\n",
    "model.compile(loss='categorical_crossentropy',optimizer='adam',metrics=['accuracy'])"
   ]
  },
  {
   "cell_type": "markdown",
   "id": "a9edced6",
   "metadata": {},
   "source": [
    "## Callbacks - tensorboard + saving model"
   ]
  },
  {
   "cell_type": "code",
   "execution_count": 5,
   "id": "f30c6f69",
   "metadata": {},
   "outputs": [],
   "source": [
    "model_dir = \"training_information/\"+model.name\n",
    "\n",
    "if model.name not in os.listdir(\"training_information/\"):\n",
    "    os.makedirs(model_dir)\n",
    "    # then also create log + weights folders\n",
    "\n",
    "if not \"weights\" in os.listdir(model_dir):\n",
    "    os.makedirs(model_dir + \"/weights\")\n",
    "\n",
    "if  not \"logs\" in os.listdir(model_dir):\n",
    "    os.makedirs(model_dir + \"/logs\")\n",
    "\n",
    "time_stamp = datetime.datetime.now().strftime(\"%Y%m%d-%H%M%S\")\n",
    "\n",
    "log_path = model_dir + \"/logs/\" + time_stamp\n",
    "weights_path = model_dir + \"/weights/\" + time_stamp+ \"-{epoch:04d}.ckpt\"\n",
    "\n",
    "# tensorboard\n",
    "tensorboard_callback = tf.keras.callbacks.TensorBoard(log_dir=log_path, histogram_freq=1)\n",
    "\n",
    "# saving weights\n",
    "cp_callback = tf.keras.callbacks.ModelCheckpoint(filepath=weights_path,\n",
    "                                                 save_weights_only=True,\n",
    "                                                 verbose=1)"
   ]
  },
  {
   "cell_type": "code",
   "execution_count": 6,
   "id": "2377a239",
   "metadata": {},
   "outputs": [
    {
     "data": {
      "text/plain": [
       "Reusing TensorBoard on port 6006 (pid 13240), started 0:08:50 ago. (Use '!kill 13240' to kill it.)"
      ]
     },
     "metadata": {},
     "output_type": "display_data"
    },
    {
     "data": {
      "text/html": [
       "\n",
       "      <iframe id=\"tensorboard-frame-46a957ca9af1cc26\" width=\"100%\" height=\"800\" frameborder=\"0\">\n",
       "      </iframe>\n",
       "      <script>\n",
       "        (function() {\n",
       "          const frame = document.getElementById(\"tensorboard-frame-46a957ca9af1cc26\");\n",
       "          const url = new URL(\"/\", window.location);\n",
       "          const port = 6006;\n",
       "          if (port) {\n",
       "            url.port = port;\n",
       "          }\n",
       "          frame.src = url;\n",
       "        })();\n",
       "      </script>\n",
       "    "
      ],
      "text/plain": [
       "<IPython.core.display.HTML object>"
      ]
     },
     "metadata": {},
     "output_type": "display_data"
    }
   ],
   "source": [
    "%tensorboard --logdir Resnet50Softmax/logs"
   ]
  },
  {
   "cell_type": "code",
   "execution_count": null,
   "id": "8fd4aa4a",
   "metadata": {},
   "outputs": [
    {
     "name": "stdout",
     "output_type": "stream",
     "text": [
      "Epoch 1/15\n",
      "10/10 [==============================] - ETA: 0s - loss: 3.7437 - accuracy: 0.1281"
     ]
    }
   ],
   "source": [
    "model.fit(\n",
    "    train_ds,\n",
    "    epochs=15,\n",
    "    validation_data=val_ds,\n",
    "    callbacks=[cp_callback,tensorboard_callback]\n",
    ")"
   ]
  },
  {
   "cell_type": "code",
   "execution_count": null,
   "id": "d2ab576f",
   "metadata": {},
   "outputs": [],
   "source": []
  }
 ],
 "metadata": {
  "kernelspec": {
   "display_name": "whale",
   "language": "python",
   "name": "whale"
  },
  "language_info": {
   "codemirror_mode": {
    "name": "ipython",
    "version": 3
   },
   "file_extension": ".py",
   "mimetype": "text/x-python",
   "name": "python",
   "nbconvert_exporter": "python",
   "pygments_lexer": "ipython3",
   "version": "3.9.7"
  }
 },
 "nbformat": 4,
 "nbformat_minor": 5
}
