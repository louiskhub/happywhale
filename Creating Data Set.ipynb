{
 "cells": [
  {
   "cell_type": "code",
   "execution_count": null,
   "id": "90e66734",
   "metadata": {},
   "outputs": [],
   "source": [
    "import tensorflow_datasets as tfds\n",
    "from util import TRAIN_SPECIES_DF, TARGET_SHAPE\n",
    "import tqdm \n",
    "\n",
    "df = TRAIN_SPECIES_DF\n",
    "\n",
    "# Path for your resized images\n",
    "write_path = \"../some_path/\"\n",
    "\n",
    "ds = tf.data.Dataset.from_tensor_slices(df[\"image\"])\n",
    "\n",
    "def mapping_func(path):\n",
    "    img = tf.io.read_file( \"../KaggleData/train_images/\" + path)\n",
    "    img = tf.io.decode_jpeg(img, channels=3)\n",
    "    img = tf.image.resize(img,TARGET_SHAPE)\n",
    "    return (img,path)\n",
    "ds = ds.map(mapping_func)\n",
    "\n",
    "for img,path in tqdm.tqdm(tfds.as_numpy(ds)):\n",
    "    tf.keras.utils.save_img(write_path + path.decode(\"utf-8\"), img)"
   ]
  }
 ],
 "metadata": {
  "kernelspec": {
   "display_name": "whale",
   "language": "python",
   "name": "whale"
  },
  "language_info": {
   "codemirror_mode": {
    "name": "ipython",
    "version": 3
   },
   "file_extension": ".py",
   "mimetype": "text/x-python",
   "name": "python",
   "nbconvert_exporter": "python",
   "pygments_lexer": "ipython3",
   "version": "3.9.7"
  }
 },
 "nbformat": 4,
 "nbformat_minor": 5
}