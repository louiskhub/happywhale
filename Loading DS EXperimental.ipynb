{
 "cells": [
  {
   "cell_type": "code",
   "execution_count": 1,
   "id": "9ef44008",
   "metadata": {},
   "outputs": [],
   "source": [
    "# First let's import our libraries\n",
    "import pandas as pd\n",
    "import numpy as np\n",
    "from util import  PATH_FOR_OUR_TRAINING_DATA, TARGET_SHAPE # from the utils script we save the file path of our Kaggle Data\n",
    "import tensorflow as tf"
   ]
  },
  {
   "cell_type": "code",
   "execution_count": 2,
   "id": "cedac390",
   "metadata": {},
   "outputs": [],
   "source": [
    "df = pd.read_csv(PATH_FOR_OUR_TRAINING_DATA+\"/data.csv\",index_col=0)\n",
    "\n",
    "image_paths = tf.convert_to_tensor(df[\"image\"], dtype=tf.string)\n",
    "\n",
    "\n",
    "ds = tf.data.Dataset.from_tensor_slices(image_paths)"
   ]
  },
  {
   "cell_type": "code",
   "execution_count": 3,
   "id": "3ac8b418",
   "metadata": {},
   "outputs": [],
   "source": [
    "def prepare_images_mapping(path):\n",
    "    x = tf.io.read_file(path)\n",
    "    x =  tf.image.decode_jpeg(x)\n",
    "    x = tf.image.resize(x,TARGET_SHAPE)\n",
    "    x = tf.cast(x,dtype=tf.float32)\n",
    "    x *= (2/ 255)\n",
    "    x -= 1\n",
    "    return x\n",
    "    "
   ]
  },
  {
   "cell_type": "code",
   "execution_count": 4,
   "id": "0f935abf",
   "metadata": {},
   "outputs": [],
   "source": [
    "ds = ds.map(prepare_images_mapping, num_parallel_calls=8)"
   ]
  },
  {
   "cell_type": "code",
   "execution_count": null,
   "id": "0b84f2c2",
   "metadata": {},
   "outputs": [],
   "source": []
  }
 ],
 "metadata": {
  "kernelspec": {
   "display_name": "gpu",
   "language": "python",
   "name": "gpu"
  },
  "language_info": {
   "codemirror_mode": {
    "name": "ipython",
    "version": 3
   },
   "file_extension": ".py",
   "mimetype": "text/x-python",
   "name": "python",
   "nbconvert_exporter": "python",
   "pygments_lexer": "ipython3",
   "version": "3.9.7"
  }
 },
 "nbformat": 4,
 "nbformat_minor": 5
}
